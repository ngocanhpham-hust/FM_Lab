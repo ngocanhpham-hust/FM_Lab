{
 "cells": [
  {
   "cell_type": "code",
   "execution_count": null,
   "metadata": {
    "colab": {
     "base_uri": "https://localhost:8080/"
    },
    "id": "w94rBfeJmZw0",
    "outputId": "bbb5e294-1acf-4004-84cd-9930986ead9f"
   },
   "outputs": [
    {
     "name": "stdout",
     "output_type": "stream",
     "text": [
      "/content/drive/MyDrive/Colab Notebooks/Real_Estate\n"
     ]
    }
   ],
   "source": [
    "cd /content/drive/MyDrive/Colab Notebooks/Real_Estate"
   ]
  },
  {
   "cell_type": "code",
   "execution_count": null,
   "metadata": {
    "colab": {
     "base_uri": "https://localhost:8080/"
    },
    "id": "MaGS5Pbxpq5R",
    "outputId": "9dfb8d1f-6b5d-4a51-a2dc-77792090019a"
   },
   "outputs": [
    {
     "name": "stdout",
     "output_type": "stream",
     "text": [
      " baocaochung.docx      data_new_reg.csv    LR_BGR.ipynb\n",
      " \u001b[0m\u001b[01;34mbatdongsan_crawler\u001b[0m/   dsds.csv            newdfBDS.csv\n",
      " clf2.pkl             'Hanoi LR_BGR'       \u001b[01;34mS_Real_Estate\u001b[0m/\n",
      " data_new2.csv         House_price.ipynb  'Tài liệu không có tiêu đề.gdoc'\n",
      " data_new.csv          links_list.txt\n"
     ]
    }
   ],
   "source": [
    "ls"
   ]
  },
  {
   "cell_type": "markdown",
   "metadata": {
    "id": "byhQ8S7NfMgC"
   },
   "source": [
    "#### read data from file"
   ]
  },
  {
   "cell_type": "code",
   "execution_count": null,
   "metadata": {
    "colab": {
     "base_uri": "https://localhost:8080/",
     "height": 162
    },
    "id": "9IpHTqoQp2pJ",
    "outputId": "e369cc8f-531a-4329-8b84-0260576d667b"
   },
   "outputs": [
    {
     "name": "stdout",
     "output_type": "stream",
     "text": [
      "81162\n"
     ]
    },
    {
     "data": {
      "text/html": [
       "<div>\n",
       "<style scoped>\n",
       "    .dataframe tbody tr th:only-of-type {\n",
       "        vertical-align: middle;\n",
       "    }\n",
       "\n",
       "    .dataframe tbody tr th {\n",
       "        vertical-align: top;\n",
       "    }\n",
       "\n",
       "    .dataframe thead th {\n",
       "        text-align: right;\n",
       "    }\n",
       "</style>\n",
       "<table border=\"1\" class=\"dataframe\">\n",
       "  <thead>\n",
       "    <tr style=\"text-align: right;\">\n",
       "      <th></th>\n",
       "      <th>id</th>\n",
       "      <th>month</th>\n",
       "      <th>project</th>\n",
       "      <th>investor</th>\n",
       "      <th>square</th>\n",
       "      <th>bedrooms</th>\n",
       "      <th>bathrooms</th>\n",
       "      <th>direction</th>\n",
       "      <th>balcony</th>\n",
       "      <th>district</th>\n",
       "      <th>ward</th>\n",
       "      <th>price</th>\n",
       "    </tr>\n",
       "  </thead>\n",
       "  <tbody>\n",
       "    <tr>\n",
       "      <th>0</th>\n",
       "      <td>28086120</td>\n",
       "      <td>12</td>\n",
       "      <td>Vinhomes Smart City Đại Mỗ</td>\n",
       "      <td>Tập đoàn Vingroup</td>\n",
       "      <td>60.0</td>\n",
       "      <td>3.0</td>\n",
       "      <td>1.0</td>\n",
       "      <td>Đông-Nam</td>\n",
       "      <td>Tây-Bắc</td>\n",
       "      <td>nam tu liem</td>\n",
       "      <td>dai mo</td>\n",
       "      <td>1560.0</td>\n",
       "    </tr>\n",
       "    <tr>\n",
       "      <th>1</th>\n",
       "      <td>28088954</td>\n",
       "      <td>12</td>\n",
       "      <td>Goldmark City</td>\n",
       "      <td>Công ty TNHH Thương mại - Quảng cáo - Xây dựng...</td>\n",
       "      <td>121.0</td>\n",
       "      <td>3.0</td>\n",
       "      <td>2.0</td>\n",
       "      <td>NaN</td>\n",
       "      <td>NaN</td>\n",
       "      <td>bac tu liem</td>\n",
       "      <td>phu dien</td>\n",
       "      <td>3300.0</td>\n",
       "    </tr>\n",
       "  </tbody>\n",
       "</table>\n",
       "</div>"
      ],
      "text/plain": [
       "         id  month                     project  ...     district      ward   price\n",
       "0  28086120     12  Vinhomes Smart City Đại Mỗ  ...  nam tu liem    dai mo  1560.0\n",
       "1  28088954     12               Goldmark City  ...  bac tu liem  phu dien  3300.0\n",
       "\n",
       "[2 rows x 12 columns]"
      ]
     },
     "execution_count": 5,
     "metadata": {
      "tags": []
     },
     "output_type": "execute_result"
    }
   ],
   "source": [
    "import pandas as pd\n",
    "data = pd.read_csv('newdfBDS.csv')\n",
    "print(len(data))\n",
    "data.head(2)"
   ]
  },
  {
   "cell_type": "markdown",
   "metadata": {
    "id": "NmcqyrtJrOZi"
   },
   "source": [
    "####Lam viec voi du lieu thang 8 - 12"
   ]
  },
  {
   "cell_type": "code",
   "execution_count": null,
   "metadata": {
    "colab": {
     "base_uri": "https://localhost:8080/",
     "height": 210
    },
    "id": "UyxfFzR3qwT2",
    "outputId": "8d1d61a8-5a69-4821-a021-a5958b998767"
   },
   "outputs": [
    {
     "name": "stdout",
     "output_type": "stream",
     "text": [
      "So luong ban ghi thang 8 - 12:  56969\n"
     ]
    },
    {
     "data": {
      "text/html": [
       "<div>\n",
       "<style scoped>\n",
       "    .dataframe tbody tr th:only-of-type {\n",
       "        vertical-align: middle;\n",
       "    }\n",
       "\n",
       "    .dataframe tbody tr th {\n",
       "        vertical-align: top;\n",
       "    }\n",
       "\n",
       "    .dataframe thead th {\n",
       "        text-align: right;\n",
       "    }\n",
       "</style>\n",
       "<table border=\"1\" class=\"dataframe\">\n",
       "  <thead>\n",
       "    <tr style=\"text-align: right;\">\n",
       "      <th></th>\n",
       "      <th>id</th>\n",
       "      <th>month</th>\n",
       "      <th>project</th>\n",
       "      <th>investor</th>\n",
       "      <th>square</th>\n",
       "      <th>bedrooms</th>\n",
       "      <th>bathrooms</th>\n",
       "      <th>direction</th>\n",
       "      <th>balcony</th>\n",
       "      <th>district</th>\n",
       "      <th>ward</th>\n",
       "      <th>price</th>\n",
       "    </tr>\n",
       "  </thead>\n",
       "  <tbody>\n",
       "    <tr>\n",
       "      <th>9434</th>\n",
       "      <td>26489651</td>\n",
       "      <td>8</td>\n",
       "      <td>Hope Residence</td>\n",
       "      <td>NaN</td>\n",
       "      <td>57.0</td>\n",
       "      <td>2.0</td>\n",
       "      <td>1.0</td>\n",
       "      <td>NaN</td>\n",
       "      <td>NaN</td>\n",
       "      <td>long bien</td>\n",
       "      <td>phuc dong</td>\n",
       "      <td>1200.0</td>\n",
       "    </tr>\n",
       "    <tr>\n",
       "      <th>9435</th>\n",
       "      <td>26602206</td>\n",
       "      <td>8</td>\n",
       "      <td>NaN</td>\n",
       "      <td>NaN</td>\n",
       "      <td>45.0</td>\n",
       "      <td>2.0</td>\n",
       "      <td>1.0</td>\n",
       "      <td>NaN</td>\n",
       "      <td>NaN</td>\n",
       "      <td>nam tu liem</td>\n",
       "      <td>my dinh 2</td>\n",
       "      <td>810.0</td>\n",
       "    </tr>\n",
       "    <tr>\n",
       "      <th>9436</th>\n",
       "      <td>26459338</td>\n",
       "      <td>8</td>\n",
       "      <td>Khu đô thị mới Xa La</td>\n",
       "      <td>Doanh nghiệp tư nhân xây dựng số 1 tỉnh Điện Biên</td>\n",
       "      <td>100.0</td>\n",
       "      <td>3.0</td>\n",
       "      <td>3.0</td>\n",
       "      <td>Đông-Nam</td>\n",
       "      <td>NaN</td>\n",
       "      <td>ha dong</td>\n",
       "      <td>phuc la</td>\n",
       "      <td>1700.0</td>\n",
       "    </tr>\n",
       "  </tbody>\n",
       "</table>\n",
       "</div>"
      ],
      "text/plain": [
       "            id  month               project  ...     district       ward   price\n",
       "9434  26489651      8        Hope Residence  ...    long bien  phuc dong  1200.0\n",
       "9435  26602206      8                   NaN  ...  nam tu liem  my dinh 2   810.0\n",
       "9436  26459338      8  Khu đô thị mới Xa La  ...      ha dong    phuc la  1700.0\n",
       "\n",
       "[3 rows x 12 columns]"
      ]
     },
     "execution_count": 6,
     "metadata": {
      "tags": []
     },
     "output_type": "execute_result"
    }
   ],
   "source": [
    "data_aug = data.loc[data['month'] == 8]\n",
    "data_sep = data.loc[data['month'] == 9]\n",
    "data_oct = data.loc[data['month'] == 10]\n",
    "data_nov = data.loc[data['month'] == 11]\n",
    "data_dec = data.loc[data['month'] == 12]\n",
    "data_new = pd.concat([data_aug, data_sep, data_oct, data_nov, data_dec])\n",
    "print('So luong ban ghi thang 8 - 12: ', len(data_new))\n",
    "data_new.head(3)"
   ]
  },
  {
   "cell_type": "code",
   "execution_count": null,
   "metadata": {
    "colab": {
     "base_uri": "https://localhost:8080/",
     "height": 297
    },
    "id": "QW1WZ4weycEc",
    "outputId": "b3623ef6-b71a-4dee-a8a9-02e060f11481"
   },
   "outputs": [
    {
     "data": {
      "text/html": [
       "<div>\n",
       "<style scoped>\n",
       "    .dataframe tbody tr th:only-of-type {\n",
       "        vertical-align: middle;\n",
       "    }\n",
       "\n",
       "    .dataframe tbody tr th {\n",
       "        vertical-align: top;\n",
       "    }\n",
       "\n",
       "    .dataframe thead th {\n",
       "        text-align: right;\n",
       "    }\n",
       "</style>\n",
       "<table border=\"1\" class=\"dataframe\">\n",
       "  <thead>\n",
       "    <tr style=\"text-align: right;\">\n",
       "      <th></th>\n",
       "      <th>id</th>\n",
       "      <th>month</th>\n",
       "      <th>square</th>\n",
       "      <th>bedrooms</th>\n",
       "      <th>bathrooms</th>\n",
       "      <th>price</th>\n",
       "    </tr>\n",
       "  </thead>\n",
       "  <tbody>\n",
       "    <tr>\n",
       "      <th>count</th>\n",
       "      <td>5.696900e+04</td>\n",
       "      <td>56969.000000</td>\n",
       "      <td>56969.000000</td>\n",
       "      <td>56969.000000</td>\n",
       "      <td>56969.000000</td>\n",
       "      <td>56969.000000</td>\n",
       "    </tr>\n",
       "    <tr>\n",
       "      <th>mean</th>\n",
       "      <td>2.680693e+07</td>\n",
       "      <td>9.835156</td>\n",
       "      <td>83.924889</td>\n",
       "      <td>2.373958</td>\n",
       "      <td>1.898313</td>\n",
       "      <td>2430.901294</td>\n",
       "    </tr>\n",
       "    <tr>\n",
       "      <th>std</th>\n",
       "      <td>1.569313e+06</td>\n",
       "      <td>1.365532</td>\n",
       "      <td>26.235144</td>\n",
       "      <td>0.633232</td>\n",
       "      <td>0.416280</td>\n",
       "      <td>1050.929709</td>\n",
       "    </tr>\n",
       "    <tr>\n",
       "      <th>min</th>\n",
       "      <td>6.449162e+06</td>\n",
       "      <td>8.000000</td>\n",
       "      <td>7.000000</td>\n",
       "      <td>1.000000</td>\n",
       "      <td>1.000000</td>\n",
       "      <td>350.000000</td>\n",
       "    </tr>\n",
       "    <tr>\n",
       "      <th>25%</th>\n",
       "      <td>2.662292e+07</td>\n",
       "      <td>9.000000</td>\n",
       "      <td>66.000000</td>\n",
       "      <td>2.000000</td>\n",
       "      <td>2.000000</td>\n",
       "      <td>1550.000000</td>\n",
       "    </tr>\n",
       "    <tr>\n",
       "      <th>50%</th>\n",
       "      <td>2.709917e+07</td>\n",
       "      <td>10.000000</td>\n",
       "      <td>79.000000</td>\n",
       "      <td>2.000000</td>\n",
       "      <td>2.000000</td>\n",
       "      <td>2325.000000</td>\n",
       "    </tr>\n",
       "    <tr>\n",
       "      <th>75%</th>\n",
       "      <td>2.754646e+07</td>\n",
       "      <td>11.000000</td>\n",
       "      <td>99.000000</td>\n",
       "      <td>3.000000</td>\n",
       "      <td>2.000000</td>\n",
       "      <td>3200.000000</td>\n",
       "    </tr>\n",
       "    <tr>\n",
       "      <th>max</th>\n",
       "      <td>2.812856e+07</td>\n",
       "      <td>12.000000</td>\n",
       "      <td>296.000000</td>\n",
       "      <td>4.000000</td>\n",
       "      <td>4.000000</td>\n",
       "      <td>5000.000000</td>\n",
       "    </tr>\n",
       "  </tbody>\n",
       "</table>\n",
       "</div>"
      ],
      "text/plain": [
       "                 id         month  ...     bathrooms         price\n",
       "count  5.696900e+04  56969.000000  ...  56969.000000  56969.000000\n",
       "mean   2.680693e+07      9.835156  ...      1.898313   2430.901294\n",
       "std    1.569313e+06      1.365532  ...      0.416280   1050.929709\n",
       "min    6.449162e+06      8.000000  ...      1.000000    350.000000\n",
       "25%    2.662292e+07      9.000000  ...      2.000000   1550.000000\n",
       "50%    2.709917e+07     10.000000  ...      2.000000   2325.000000\n",
       "75%    2.754646e+07     11.000000  ...      2.000000   3200.000000\n",
       "max    2.812856e+07     12.000000  ...      4.000000   5000.000000\n",
       "\n",
       "[8 rows x 6 columns]"
      ]
     },
     "execution_count": 8,
     "metadata": {
      "tags": []
     },
     "output_type": "execute_result"
    }
   ],
   "source": [
    "data_new.describe()"
   ]
  },
  {
   "cell_type": "code",
   "execution_count": null,
   "metadata": {
    "id": "bLlzkMVbviii"
   },
   "outputs": [],
   "source": [
    "#Chuyen gia tri truong 'month' thanh dang string\n",
    "data_new = data_new.astype({\"month\": str})"
   ]
  },
  {
   "cell_type": "markdown",
   "metadata": {
    "id": "jEj_yFOkhP5Q"
   },
   "source": [
    "####Ham danh gia mo hinh tren du lieu tap train va tap test"
   ]
  },
  {
   "cell_type": "code",
   "execution_count": null,
   "metadata": {
    "id": "Zd4Rv2nBwHrD"
   },
   "outputs": [],
   "source": [
    "\n",
    "\n",
    "from sklearn.metrics import r2_score, mean_squared_error, mean_absolute_error\n",
    "\n",
    "def evaluate(model, x_train, x_test, y_train, y_test):\n",
    "\n",
    "  y_pred =  model.predict(x_test)\n",
    "  r2 = r2_score(y_test, y_pred) ### Tap test\n",
    "  mse = mean_squared_error(y_test, y_pred)\n",
    "  mae =  mean_absolute_error(y_test,  y_pred)\n",
    "  print('r2: ', r2, '\\nmse: ', mse, '\\nmae: ', mae)\n",
    "  print('------------------------------------------')\n",
    "\n",
    "  y_train_pred = model.predict(x_train) ### Tap train\n",
    "  r2 = r2_score(y_train, y_train_pred)\n",
    "  mse = mean_squared_error(y_train, y_train_pred)\n",
    "  mae =  mean_absolute_error(y_train, y_train_pred)\n",
    "  print('r2: ', r2, '\\nmse: ', mse, '\\nmae: ', mae)\n",
    "\n",
    "  print(type(y_train))\n",
    "  print(type(y_train_pred))"
   ]
  },
  {
   "cell_type": "markdown",
   "metadata": {
    "id": "YUzDNzdexgMp"
   },
   "source": [
    "#### GBR"
   ]
  },
  {
   "cell_type": "code",
   "execution_count": null,
   "metadata": {
    "colab": {
     "base_uri": "https://localhost:8080/",
     "height": 272
    },
    "id": "u-v0So-zNjMe",
    "outputId": "4e862f79-4812-41cd-9aed-467ca2ff8a1c"
   },
   "outputs": [
    {
     "data": {
      "text/html": [
       "<div>\n",
       "<style scoped>\n",
       "    .dataframe tbody tr th:only-of-type {\n",
       "        vertical-align: middle;\n",
       "    }\n",
       "\n",
       "    .dataframe tbody tr th {\n",
       "        vertical-align: top;\n",
       "    }\n",
       "\n",
       "    .dataframe thead th {\n",
       "        text-align: right;\n",
       "    }\n",
       "</style>\n",
       "<table border=\"1\" class=\"dataframe\">\n",
       "  <thead>\n",
       "    <tr style=\"text-align: right;\">\n",
       "      <th></th>\n",
       "      <th>id</th>\n",
       "      <th>month</th>\n",
       "      <th>project</th>\n",
       "      <th>investor</th>\n",
       "      <th>square</th>\n",
       "      <th>bedrooms</th>\n",
       "      <th>bathrooms</th>\n",
       "      <th>direction</th>\n",
       "      <th>balcony</th>\n",
       "      <th>district</th>\n",
       "      <th>ward</th>\n",
       "      <th>price</th>\n",
       "    </tr>\n",
       "  </thead>\n",
       "  <tbody>\n",
       "    <tr>\n",
       "      <th>9434</th>\n",
       "      <td>26489651</td>\n",
       "      <td>8</td>\n",
       "      <td>Hope Residence</td>\n",
       "      <td>NaN</td>\n",
       "      <td>57.0</td>\n",
       "      <td>2.0</td>\n",
       "      <td>1.0</td>\n",
       "      <td>NaN</td>\n",
       "      <td>NaN</td>\n",
       "      <td>long bien</td>\n",
       "      <td>phuc dong</td>\n",
       "      <td>1200.0</td>\n",
       "    </tr>\n",
       "    <tr>\n",
       "      <th>9435</th>\n",
       "      <td>26602206</td>\n",
       "      <td>8</td>\n",
       "      <td>NaN</td>\n",
       "      <td>NaN</td>\n",
       "      <td>45.0</td>\n",
       "      <td>2.0</td>\n",
       "      <td>1.0</td>\n",
       "      <td>NaN</td>\n",
       "      <td>NaN</td>\n",
       "      <td>nam tu liem</td>\n",
       "      <td>my dinh 2</td>\n",
       "      <td>810.0</td>\n",
       "    </tr>\n",
       "    <tr>\n",
       "      <th>9436</th>\n",
       "      <td>26459338</td>\n",
       "      <td>8</td>\n",
       "      <td>Khu đô thị mới Xa La</td>\n",
       "      <td>Doanh nghiệp tư nhân xây dựng số 1 tỉnh Điện Biên</td>\n",
       "      <td>100.0</td>\n",
       "      <td>3.0</td>\n",
       "      <td>3.0</td>\n",
       "      <td>Đông-Nam</td>\n",
       "      <td>NaN</td>\n",
       "      <td>ha dong</td>\n",
       "      <td>phuc la</td>\n",
       "      <td>1700.0</td>\n",
       "    </tr>\n",
       "    <tr>\n",
       "      <th>9437</th>\n",
       "      <td>26608859</td>\n",
       "      <td>8</td>\n",
       "      <td>Vinhomes Ocean Park Gia Lâm</td>\n",
       "      <td>NaN</td>\n",
       "      <td>59.0</td>\n",
       "      <td>2.0</td>\n",
       "      <td>1.0</td>\n",
       "      <td>NaN</td>\n",
       "      <td>Đông-Bắc</td>\n",
       "      <td>gia lam</td>\n",
       "      <td>duong xa</td>\n",
       "      <td>1870.0</td>\n",
       "    </tr>\n",
       "    <tr>\n",
       "      <th>9438</th>\n",
       "      <td>26790642</td>\n",
       "      <td>8</td>\n",
       "      <td>Chung cư Đại Thanh</td>\n",
       "      <td>Xí nghiệp Xây dựng Tư nhân Số 1 Lai Châu</td>\n",
       "      <td>36.0</td>\n",
       "      <td>1.0</td>\n",
       "      <td>1.0</td>\n",
       "      <td>NaN</td>\n",
       "      <td>NaN</td>\n",
       "      <td>thanh oai</td>\n",
       "      <td>NaN</td>\n",
       "      <td>420.0</td>\n",
       "    </tr>\n",
       "  </tbody>\n",
       "</table>\n",
       "</div>"
      ],
      "text/plain": [
       "            id  month  ...       ward   price\n",
       "9434  26489651      8  ...  phuc dong  1200.0\n",
       "9435  26602206      8  ...  my dinh 2   810.0\n",
       "9436  26459338      8  ...    phuc la  1700.0\n",
       "9437  26608859      8  ...   duong xa  1870.0\n",
       "9438  26790642      8  ...        NaN   420.0\n",
       "\n",
       "[5 rows x 12 columns]"
      ]
     },
     "execution_count": 7,
     "metadata": {
      "tags": []
     },
     "output_type": "execute_result"
    }
   ],
   "source": [
    "data_new.head()"
   ]
  },
  {
   "cell_type": "code",
   "execution_count": null,
   "metadata": {
    "id": "VYMOwlhAOELJ"
   },
   "outputs": [],
   "source": [
    "X = data_new.drop(['price', 'id'], axis=1)"
   ]
  },
  {
   "cell_type": "code",
   "execution_count": null,
   "metadata": {
    "id": "Db2GJG1BErVt"
   },
   "outputs": [],
   "source": [
    "#Xử lí các trường dạng số - Chuẩn hóa giá trị \n",
    "from sklearn.preprocessing import MinMaxScaler\n",
    "mmscaler = MinMaxScaler()\n",
    "xx = X[['square', 'bedrooms', 'bathrooms']]\n",
    "mmscaler.fit(xx)\n",
    "\n",
    "X_num = mmscaler.transform(xx)"
   ]
  },
  {
   "cell_type": "code",
   "execution_count": null,
   "metadata": {
    "colab": {
     "base_uri": "https://localhost:8080/",
     "height": 304
    },
    "id": "oVGXuzQschxW",
    "outputId": "de70d435-a68c-4a71-dcb4-fd08721f1e2d"
   },
   "outputs": [
    {
     "data": {
      "text/html": [
       "<div>\n",
       "<style scoped>\n",
       "    .dataframe tbody tr th:only-of-type {\n",
       "        vertical-align: middle;\n",
       "    }\n",
       "\n",
       "    .dataframe tbody tr th {\n",
       "        vertical-align: top;\n",
       "    }\n",
       "\n",
       "    .dataframe thead th {\n",
       "        text-align: right;\n",
       "    }\n",
       "</style>\n",
       "<table border=\"1\" class=\"dataframe\">\n",
       "  <thead>\n",
       "    <tr style=\"text-align: right;\">\n",
       "      <th></th>\n",
       "      <th>project_6th Element</th>\n",
       "      <th>project_A10-A14 Nam Trung Yên</th>\n",
       "      <th>project_AQH Riverside</th>\n",
       "      <th>project_AZ Lâm Viên Complex</th>\n",
       "      <th>project_Amber Riverside</th>\n",
       "      <th>project_An Bình City</th>\n",
       "      <th>project_An Bình Plaza</th>\n",
       "      <th>project_An Bình Tower</th>\n",
       "      <th>project_An Lạc - Nam La Khê</th>\n",
       "      <th>project_An Lạc - Phùng Khoang</th>\n",
       "      <th>project_Anland 2</th>\n",
       "      <th>project_Anland LakeView</th>\n",
       "      <th>project_Anland Nam Cường</th>\n",
       "      <th>project_Ariyana Lakeside</th>\n",
       "      <th>project_Artex Building 172 Ngọc Khánh</th>\n",
       "      <th>project_Athena Complex</th>\n",
       "      <th>project_Athena Complex Pháp Vân</th>\n",
       "      <th>project_B.I.G Tower</th>\n",
       "      <th>project_B1-B2 Tây Nam Linh Đàm</th>\n",
       "      <th>project_BID Residence</th>\n",
       "      <th>project_BRG Park Residence</th>\n",
       "      <th>project_Bamboo Airways Tower</th>\n",
       "      <th>project_Bea Sky</th>\n",
       "      <th>project_Berriver Long Biên</th>\n",
       "      <th>project_Bohemia Residence</th>\n",
       "      <th>project_Bình Minh Garden</th>\n",
       "      <th>project_Bình Vượng Tower</th>\n",
       "      <th>project_C14 - Bộ Công An</th>\n",
       "      <th>project_C3 Tower - Golden Palace</th>\n",
       "      <th>project_C37 Bộ Công An - Bắc Hà Tower</th>\n",
       "      <th>project_C7 Giảng Võ</th>\n",
       "      <th>project_CC1 Hà Đô Parkside</th>\n",
       "      <th>project_CHCC 257 Giải Phóng</th>\n",
       "      <th>project_CT Number One</th>\n",
       "      <th>project_CT1 Thạch Bàn</th>\n",
       "      <th>project_CT1 Trung Văn - Vinaconex 3</th>\n",
       "      <th>project_CT2 Trung Văn - Vinaconex 3</th>\n",
       "      <th>project_CT2 Xuân Phương</th>\n",
       "      <th>project_CT2 Yên Nghĩa</th>\n",
       "      <th>project_CT2B Nghĩa Đô</th>\n",
       "      <th>...</th>\n",
       "      <th>ward_thanh xuan bac</th>\n",
       "      <th>ward_thanh xuan nam</th>\n",
       "      <th>ward_thanh xuan trung</th>\n",
       "      <th>ward_thinh liet</th>\n",
       "      <th>ward_thinh quang</th>\n",
       "      <th>ward_tho quan</th>\n",
       "      <th>ward_thuong dinh</th>\n",
       "      <th>ward_thuong thanh</th>\n",
       "      <th>ward_thuy khue</th>\n",
       "      <th>ward_thuy phuong</th>\n",
       "      <th>ward_tien phong</th>\n",
       "      <th>ward_tran hung dao</th>\n",
       "      <th>ward_tran phu</th>\n",
       "      <th>ward_trang tien</th>\n",
       "      <th>ward_trau quy</th>\n",
       "      <th>ward_truc bach</th>\n",
       "      <th>ward_trung hoa</th>\n",
       "      <th>ward_trung liet</th>\n",
       "      <th>ward_trung tu</th>\n",
       "      <th>ward_trung van</th>\n",
       "      <th>ward_truong dinh</th>\n",
       "      <th>ward_tu hiep</th>\n",
       "      <th>ward_tuong mai</th>\n",
       "      <th>ward_van canh</th>\n",
       "      <th>ward_van chuong</th>\n",
       "      <th>ward_van phuc</th>\n",
       "      <th>ward_van quan</th>\n",
       "      <th>ward_viet hung</th>\n",
       "      <th>ward_vinh hung</th>\n",
       "      <th>ward_vinh ngoc</th>\n",
       "      <th>ward_vinh phuc</th>\n",
       "      <th>ward_vinh tuy</th>\n",
       "      <th>ward_xuan dinh</th>\n",
       "      <th>ward_xuan la</th>\n",
       "      <th>ward_xuan phuong</th>\n",
       "      <th>ward_xuan tao</th>\n",
       "      <th>ward_yen hoa</th>\n",
       "      <th>ward_yen nghia</th>\n",
       "      <th>ward_yen so</th>\n",
       "      <th>ward_yet kieu</th>\n",
       "    </tr>\n",
       "  </thead>\n",
       "  <tbody>\n",
       "    <tr>\n",
       "      <th>9434</th>\n",
       "      <td>0</td>\n",
       "      <td>0</td>\n",
       "      <td>0</td>\n",
       "      <td>0</td>\n",
       "      <td>0</td>\n",
       "      <td>0</td>\n",
       "      <td>0</td>\n",
       "      <td>0</td>\n",
       "      <td>0</td>\n",
       "      <td>0</td>\n",
       "      <td>0</td>\n",
       "      <td>0</td>\n",
       "      <td>0</td>\n",
       "      <td>0</td>\n",
       "      <td>0</td>\n",
       "      <td>0</td>\n",
       "      <td>0</td>\n",
       "      <td>0</td>\n",
       "      <td>0</td>\n",
       "      <td>0</td>\n",
       "      <td>0</td>\n",
       "      <td>0</td>\n",
       "      <td>0</td>\n",
       "      <td>0</td>\n",
       "      <td>0</td>\n",
       "      <td>0</td>\n",
       "      <td>0</td>\n",
       "      <td>0</td>\n",
       "      <td>0</td>\n",
       "      <td>0</td>\n",
       "      <td>0</td>\n",
       "      <td>0</td>\n",
       "      <td>0</td>\n",
       "      <td>0</td>\n",
       "      <td>0</td>\n",
       "      <td>0</td>\n",
       "      <td>0</td>\n",
       "      <td>0</td>\n",
       "      <td>0</td>\n",
       "      <td>0</td>\n",
       "      <td>...</td>\n",
       "      <td>0</td>\n",
       "      <td>0</td>\n",
       "      <td>0</td>\n",
       "      <td>0</td>\n",
       "      <td>0</td>\n",
       "      <td>0</td>\n",
       "      <td>0</td>\n",
       "      <td>0</td>\n",
       "      <td>0</td>\n",
       "      <td>0</td>\n",
       "      <td>0</td>\n",
       "      <td>0</td>\n",
       "      <td>0</td>\n",
       "      <td>0</td>\n",
       "      <td>0</td>\n",
       "      <td>0</td>\n",
       "      <td>0</td>\n",
       "      <td>0</td>\n",
       "      <td>0</td>\n",
       "      <td>0</td>\n",
       "      <td>0</td>\n",
       "      <td>0</td>\n",
       "      <td>0</td>\n",
       "      <td>0</td>\n",
       "      <td>0</td>\n",
       "      <td>0</td>\n",
       "      <td>0</td>\n",
       "      <td>0</td>\n",
       "      <td>0</td>\n",
       "      <td>0</td>\n",
       "      <td>0</td>\n",
       "      <td>0</td>\n",
       "      <td>0</td>\n",
       "      <td>0</td>\n",
       "      <td>0</td>\n",
       "      <td>0</td>\n",
       "      <td>0</td>\n",
       "      <td>0</td>\n",
       "      <td>0</td>\n",
       "      <td>0</td>\n",
       "    </tr>\n",
       "    <tr>\n",
       "      <th>9435</th>\n",
       "      <td>0</td>\n",
       "      <td>0</td>\n",
       "      <td>0</td>\n",
       "      <td>0</td>\n",
       "      <td>0</td>\n",
       "      <td>0</td>\n",
       "      <td>0</td>\n",
       "      <td>0</td>\n",
       "      <td>0</td>\n",
       "      <td>0</td>\n",
       "      <td>0</td>\n",
       "      <td>0</td>\n",
       "      <td>0</td>\n",
       "      <td>0</td>\n",
       "      <td>0</td>\n",
       "      <td>0</td>\n",
       "      <td>0</td>\n",
       "      <td>0</td>\n",
       "      <td>0</td>\n",
       "      <td>0</td>\n",
       "      <td>0</td>\n",
       "      <td>0</td>\n",
       "      <td>0</td>\n",
       "      <td>0</td>\n",
       "      <td>0</td>\n",
       "      <td>0</td>\n",
       "      <td>0</td>\n",
       "      <td>0</td>\n",
       "      <td>0</td>\n",
       "      <td>0</td>\n",
       "      <td>0</td>\n",
       "      <td>0</td>\n",
       "      <td>0</td>\n",
       "      <td>0</td>\n",
       "      <td>0</td>\n",
       "      <td>0</td>\n",
       "      <td>0</td>\n",
       "      <td>0</td>\n",
       "      <td>0</td>\n",
       "      <td>0</td>\n",
       "      <td>...</td>\n",
       "      <td>0</td>\n",
       "      <td>0</td>\n",
       "      <td>0</td>\n",
       "      <td>0</td>\n",
       "      <td>0</td>\n",
       "      <td>0</td>\n",
       "      <td>0</td>\n",
       "      <td>0</td>\n",
       "      <td>0</td>\n",
       "      <td>0</td>\n",
       "      <td>0</td>\n",
       "      <td>0</td>\n",
       "      <td>0</td>\n",
       "      <td>0</td>\n",
       "      <td>0</td>\n",
       "      <td>0</td>\n",
       "      <td>0</td>\n",
       "      <td>0</td>\n",
       "      <td>0</td>\n",
       "      <td>0</td>\n",
       "      <td>0</td>\n",
       "      <td>0</td>\n",
       "      <td>0</td>\n",
       "      <td>0</td>\n",
       "      <td>0</td>\n",
       "      <td>0</td>\n",
       "      <td>0</td>\n",
       "      <td>0</td>\n",
       "      <td>0</td>\n",
       "      <td>0</td>\n",
       "      <td>0</td>\n",
       "      <td>0</td>\n",
       "      <td>0</td>\n",
       "      <td>0</td>\n",
       "      <td>0</td>\n",
       "      <td>0</td>\n",
       "      <td>0</td>\n",
       "      <td>0</td>\n",
       "      <td>0</td>\n",
       "      <td>0</td>\n",
       "    </tr>\n",
       "    <tr>\n",
       "      <th>9436</th>\n",
       "      <td>0</td>\n",
       "      <td>0</td>\n",
       "      <td>0</td>\n",
       "      <td>0</td>\n",
       "      <td>0</td>\n",
       "      <td>0</td>\n",
       "      <td>0</td>\n",
       "      <td>0</td>\n",
       "      <td>0</td>\n",
       "      <td>0</td>\n",
       "      <td>0</td>\n",
       "      <td>0</td>\n",
       "      <td>0</td>\n",
       "      <td>0</td>\n",
       "      <td>0</td>\n",
       "      <td>0</td>\n",
       "      <td>0</td>\n",
       "      <td>0</td>\n",
       "      <td>0</td>\n",
       "      <td>0</td>\n",
       "      <td>0</td>\n",
       "      <td>0</td>\n",
       "      <td>0</td>\n",
       "      <td>0</td>\n",
       "      <td>0</td>\n",
       "      <td>0</td>\n",
       "      <td>0</td>\n",
       "      <td>0</td>\n",
       "      <td>0</td>\n",
       "      <td>0</td>\n",
       "      <td>0</td>\n",
       "      <td>0</td>\n",
       "      <td>0</td>\n",
       "      <td>0</td>\n",
       "      <td>0</td>\n",
       "      <td>0</td>\n",
       "      <td>0</td>\n",
       "      <td>0</td>\n",
       "      <td>0</td>\n",
       "      <td>0</td>\n",
       "      <td>...</td>\n",
       "      <td>0</td>\n",
       "      <td>0</td>\n",
       "      <td>0</td>\n",
       "      <td>0</td>\n",
       "      <td>0</td>\n",
       "      <td>0</td>\n",
       "      <td>0</td>\n",
       "      <td>0</td>\n",
       "      <td>0</td>\n",
       "      <td>0</td>\n",
       "      <td>0</td>\n",
       "      <td>0</td>\n",
       "      <td>0</td>\n",
       "      <td>0</td>\n",
       "      <td>0</td>\n",
       "      <td>0</td>\n",
       "      <td>0</td>\n",
       "      <td>0</td>\n",
       "      <td>0</td>\n",
       "      <td>0</td>\n",
       "      <td>0</td>\n",
       "      <td>0</td>\n",
       "      <td>0</td>\n",
       "      <td>0</td>\n",
       "      <td>0</td>\n",
       "      <td>0</td>\n",
       "      <td>0</td>\n",
       "      <td>0</td>\n",
       "      <td>0</td>\n",
       "      <td>0</td>\n",
       "      <td>0</td>\n",
       "      <td>0</td>\n",
       "      <td>0</td>\n",
       "      <td>0</td>\n",
       "      <td>0</td>\n",
       "      <td>0</td>\n",
       "      <td>0</td>\n",
       "      <td>0</td>\n",
       "      <td>0</td>\n",
       "      <td>0</td>\n",
       "    </tr>\n",
       "    <tr>\n",
       "      <th>9437</th>\n",
       "      <td>0</td>\n",
       "      <td>0</td>\n",
       "      <td>0</td>\n",
       "      <td>0</td>\n",
       "      <td>0</td>\n",
       "      <td>0</td>\n",
       "      <td>0</td>\n",
       "      <td>0</td>\n",
       "      <td>0</td>\n",
       "      <td>0</td>\n",
       "      <td>0</td>\n",
       "      <td>0</td>\n",
       "      <td>0</td>\n",
       "      <td>0</td>\n",
       "      <td>0</td>\n",
       "      <td>0</td>\n",
       "      <td>0</td>\n",
       "      <td>0</td>\n",
       "      <td>0</td>\n",
       "      <td>0</td>\n",
       "      <td>0</td>\n",
       "      <td>0</td>\n",
       "      <td>0</td>\n",
       "      <td>0</td>\n",
       "      <td>0</td>\n",
       "      <td>0</td>\n",
       "      <td>0</td>\n",
       "      <td>0</td>\n",
       "      <td>0</td>\n",
       "      <td>0</td>\n",
       "      <td>0</td>\n",
       "      <td>0</td>\n",
       "      <td>0</td>\n",
       "      <td>0</td>\n",
       "      <td>0</td>\n",
       "      <td>0</td>\n",
       "      <td>0</td>\n",
       "      <td>0</td>\n",
       "      <td>0</td>\n",
       "      <td>0</td>\n",
       "      <td>...</td>\n",
       "      <td>0</td>\n",
       "      <td>0</td>\n",
       "      <td>0</td>\n",
       "      <td>0</td>\n",
       "      <td>0</td>\n",
       "      <td>0</td>\n",
       "      <td>0</td>\n",
       "      <td>0</td>\n",
       "      <td>0</td>\n",
       "      <td>0</td>\n",
       "      <td>0</td>\n",
       "      <td>0</td>\n",
       "      <td>0</td>\n",
       "      <td>0</td>\n",
       "      <td>0</td>\n",
       "      <td>0</td>\n",
       "      <td>0</td>\n",
       "      <td>0</td>\n",
       "      <td>0</td>\n",
       "      <td>0</td>\n",
       "      <td>0</td>\n",
       "      <td>0</td>\n",
       "      <td>0</td>\n",
       "      <td>0</td>\n",
       "      <td>0</td>\n",
       "      <td>0</td>\n",
       "      <td>0</td>\n",
       "      <td>0</td>\n",
       "      <td>0</td>\n",
       "      <td>0</td>\n",
       "      <td>0</td>\n",
       "      <td>0</td>\n",
       "      <td>0</td>\n",
       "      <td>0</td>\n",
       "      <td>0</td>\n",
       "      <td>0</td>\n",
       "      <td>0</td>\n",
       "      <td>0</td>\n",
       "      <td>0</td>\n",
       "      <td>0</td>\n",
       "    </tr>\n",
       "    <tr>\n",
       "      <th>9438</th>\n",
       "      <td>0</td>\n",
       "      <td>0</td>\n",
       "      <td>0</td>\n",
       "      <td>0</td>\n",
       "      <td>0</td>\n",
       "      <td>0</td>\n",
       "      <td>0</td>\n",
       "      <td>0</td>\n",
       "      <td>0</td>\n",
       "      <td>0</td>\n",
       "      <td>0</td>\n",
       "      <td>0</td>\n",
       "      <td>0</td>\n",
       "      <td>0</td>\n",
       "      <td>0</td>\n",
       "      <td>0</td>\n",
       "      <td>0</td>\n",
       "      <td>0</td>\n",
       "      <td>0</td>\n",
       "      <td>0</td>\n",
       "      <td>0</td>\n",
       "      <td>0</td>\n",
       "      <td>0</td>\n",
       "      <td>0</td>\n",
       "      <td>0</td>\n",
       "      <td>0</td>\n",
       "      <td>0</td>\n",
       "      <td>0</td>\n",
       "      <td>0</td>\n",
       "      <td>0</td>\n",
       "      <td>0</td>\n",
       "      <td>0</td>\n",
       "      <td>0</td>\n",
       "      <td>0</td>\n",
       "      <td>0</td>\n",
       "      <td>0</td>\n",
       "      <td>0</td>\n",
       "      <td>0</td>\n",
       "      <td>0</td>\n",
       "      <td>0</td>\n",
       "      <td>...</td>\n",
       "      <td>0</td>\n",
       "      <td>0</td>\n",
       "      <td>0</td>\n",
       "      <td>0</td>\n",
       "      <td>0</td>\n",
       "      <td>0</td>\n",
       "      <td>0</td>\n",
       "      <td>0</td>\n",
       "      <td>0</td>\n",
       "      <td>0</td>\n",
       "      <td>0</td>\n",
       "      <td>0</td>\n",
       "      <td>0</td>\n",
       "      <td>0</td>\n",
       "      <td>0</td>\n",
       "      <td>0</td>\n",
       "      <td>0</td>\n",
       "      <td>0</td>\n",
       "      <td>0</td>\n",
       "      <td>0</td>\n",
       "      <td>0</td>\n",
       "      <td>0</td>\n",
       "      <td>0</td>\n",
       "      <td>0</td>\n",
       "      <td>0</td>\n",
       "      <td>0</td>\n",
       "      <td>0</td>\n",
       "      <td>0</td>\n",
       "      <td>0</td>\n",
       "      <td>0</td>\n",
       "      <td>0</td>\n",
       "      <td>0</td>\n",
       "      <td>0</td>\n",
       "      <td>0</td>\n",
       "      <td>0</td>\n",
       "      <td>0</td>\n",
       "      <td>0</td>\n",
       "      <td>0</td>\n",
       "      <td>0</td>\n",
       "      <td>0</td>\n",
       "    </tr>\n",
       "  </tbody>\n",
       "</table>\n",
       "<p>5 rows × 1050 columns</p>\n",
       "</div>"
      ],
      "text/plain": [
       "      project_6th Element  ...  ward_yet kieu\n",
       "9434                    0  ...              0\n",
       "9435                    0  ...              0\n",
       "9436                    0  ...              0\n",
       "9437                    0  ...              0\n",
       "9438                    0  ...              0\n",
       "\n",
       "[5 rows x 1050 columns]"
      ]
     },
     "execution_count": 79,
     "metadata": {
      "tags": []
     },
     "output_type": "execute_result"
    }
   ],
   "source": [
    "##Lọc lấy các trường category để xử lí :\">> (Đưa về các biến giả dummy)\n",
    "X_cat = data_new.drop(['square', 'bedrooms', 'bathrooms', 'price', 'id'], axis=1)\n",
    "X_cat = X_cat[['project', 'investor', 'district', 'ward']]\n",
    "\n",
    "import pandas as pd\n",
    "X_cat_new = pd.get_dummies(data = X_cat)\n",
    "X_cat_new.head()"
   ]
  },
  {
   "cell_type": "code",
   "execution_count": null,
   "metadata": {
    "id": "8UUVEaT2FtLS"
   },
   "outputs": [],
   "source": [
    "#X là ma trận chứa thông tin các trường thuộc tính\n",
    "#y là vecto giá tương ứng\n",
    "\n",
    "import numpy as np\n",
    "X = np.concatenate([X_num, X_cat_new], axis=1)\n",
    "y = data_new[['price']].to_numpy()"
   ]
  },
  {
   "cell_type": "code",
   "execution_count": null,
   "metadata": {
    "id": "EuUoav2BG2Rg"
   },
   "outputs": [],
   "source": [
    "#Lưu lại X, y đã xử lý để phòng sự số xảy ra\n",
    "import pickle as pkl\n",
    "pkl.dump(X, open('X.pkl', 'wb'))\n",
    "pkl.dump(y, open('y.pkl', 'wb'))"
   ]
  },
  {
   "cell_type": "code",
   "execution_count": null,
   "metadata": {
    "id": "wCg2Z8ZSIDzT"
   },
   "outputs": [],
   "source": [
    "#Lấy ra X, y tương ứng là ma trận thuộc tính và vecto nhãn của dữ liệu.\n",
    "\n",
    "import pickle as pkl\n",
    "X = pkl.load(open('X.pkl', 'rb'))\n",
    "y = pkl.load(open('y.pkl', 'rb')).ravel()"
   ]
  },
  {
   "cell_type": "code",
   "execution_count": null,
   "metadata": {
    "colab": {
     "base_uri": "https://localhost:8080/"
    },
    "id": "Wh_dA4YeI5jt",
    "outputId": "2a62a55d-b835-498c-93f1-dc0e985c40bc"
   },
   "outputs": [
    {
     "name": "stdout",
     "output_type": "stream",
     "text": [
      "(56969, 1053)\n",
      "(56969,)\n"
     ]
    }
   ],
   "source": [
    " print(X.shape)\n",
    " print(y.shape)"
   ]
  },
  {
   "cell_type": "code",
   "execution_count": null,
   "metadata": {
    "id": "giDy8AYcaP31"
   },
   "outputs": [],
   "source": [
    "#Chia train/test\n",
    "x_train , x_test , y_train , y_test = train_test_split(X , y , test_size = 0.5,random_state =2, shuffle = True)"
   ]
  },
  {
   "cell_type": "markdown",
   "metadata": {
    "id": "PmT-S_50zIgL"
   },
   "source": [
    "##### Dn mô hình và huấn luyện:"
   ]
  },
  {
   "cell_type": "code",
   "execution_count": null,
   "metadata": {
    "id": "yjlf_5VzxEUx"
   },
   "outputs": [],
   "source": [
    "# Mô hình với các siêu tham số khởi đầu\n",
    "from sklearn import ensemble\n",
    "clf = ensemble.GradientBoostingRegressor(n_estimators = 400, max_depth = 5, min_samples_split = 2,\n",
    "          learning_rate = 0.1, loss = 'ls')"
   ]
  },
  {
   "cell_type": "code",
   "execution_count": null,
   "metadata": {
    "colab": {
     "base_uri": "https://localhost:8080/"
    },
    "id": "EPg9qa98hhdP",
    "outputId": "5ce5aa58-fecf-44a5-84cd-33c0a1a5596a"
   },
   "outputs": [
    {
     "data": {
      "text/plain": [
       "GradientBoostingRegressor(alpha=0.9, ccp_alpha=0.0, criterion='friedman_mse',\n",
       "                          init=None, learning_rate=0.1, loss='ls', max_depth=5,\n",
       "                          max_features=None, max_leaf_nodes=None,\n",
       "                          min_impurity_decrease=0.0, min_impurity_split=None,\n",
       "                          min_samples_leaf=1, min_samples_split=2,\n",
       "                          min_weight_fraction_leaf=0.0, n_estimators=400,\n",
       "                          n_iter_no_change=None, presort='deprecated',\n",
       "                          random_state=None, subsample=1.0, tol=0.0001,\n",
       "                          validation_fraction=0.1, verbose=0, warm_start=False)"
      ]
     },
     "execution_count": 119,
     "metadata": {
      "tags": []
     },
     "output_type": "execute_result"
    }
   ],
   "source": [
    "clf.fit(x_train, y_train)"
   ]
  },
  {
   "cell_type": "code",
   "execution_count": null,
   "metadata": {
    "colab": {
     "base_uri": "https://localhost:8080/"
    },
    "id": "ToSEyGRZAiT_",
    "outputId": "16fea021-50b9-468b-a0c0-155c0fdbe259"
   },
   "outputs": [
    {
     "name": "stdout",
     "output_type": "stream",
     "text": [
      "r2:  0.9309047046986271 \n",
      "mse:  76549.18758059527 \n",
      "mae:  197.11983744565003\n",
      "------------------------------------------\n",
      "r2:  0.9365339022679423 \n",
      "mse:  69871.42490157355 \n",
      "mae:  190.96440674857908\n",
      "<class 'numpy.ndarray'>\n",
      "<class 'numpy.ndarray'>\n"
     ]
    }
   ],
   "source": [
    "evaluate(clf, x_train, x_test, y_train, y_test)"
   ]
  },
  {
   "cell_type": "markdown",
   "metadata": {
    "id": "bjTdQ7Gq1ndt"
   },
   "source": [
    "##### hyper params optimization for better acc\n",
    "\n",
    "\n"
   ]
  },
  {
   "cell_type": "code",
   "execution_count": null,
   "metadata": {
    "id": "Jl142cQr1nDk"
   },
   "outputs": [],
   "source": [
    "#Liet ke các bo gia tri de tunning cho cac sieu tham so tuong ung cua mo hinh\n",
    "\n",
    "param = {\n",
    "         'max_depth':[2,3,4,5,6,7],\n",
    "         'learning_rate':[0.15,0.1,0.05,0.01,0.005,0.001],\n",
    "         'n_estimators':[100, 150,200,500,900,1200,1500], \n",
    "         'n_estimators':[100,250,500,750,1000,1250,1500,1750],\n",
    "         'min_samples_split':[2,4,6,8,10,20,40,60,100], \n",
    "         'min_samples_leaf':[1,3,5,7,9],\n",
    "         'max_features':[2,3,4,5,6,7],\n",
    "         'subsample':[0.7,0.75,0.8,0.85,0.9,0.95,1]\n",
    "         }"
   ]
  },
  {
   "cell_type": "code",
   "execution_count": null,
   "metadata": {
    "id": "QAeVNej3_tXG"
   },
   "outputs": [],
   "source": [
    "from sklearn.model_selection import RandomizedSearchCV\n",
    "random_cv = RandomizedSearchCV(estimator=clf,\n",
    "                               param_distributions=param,\n",
    "                               cv=5,n_iter=50,\n",
    "                               scoring='neg_mean_absolute_error',n_jobs=4,\n",
    "                               verbose=5,\n",
    "                               return_train_score=True,\n",
    "                               random_state=42)"
   ]
  },
  {
   "cell_type": "code",
   "execution_count": null,
   "metadata": {
    "colab": {
     "base_uri": "https://localhost:8080/"
    },
    "id": "ysc0hYvg_96B",
    "outputId": "51dd50a9-a54e-486a-fa92-9c557fea9490"
   },
   "outputs": [
    {
     "name": "stdout",
     "output_type": "stream",
     "text": [
      "Fitting 5 folds for each of 50 candidates, totalling 250 fits\n"
     ]
    },
    {
     "name": "stderr",
     "output_type": "stream",
     "text": [
      "[Parallel(n_jobs=4)]: Using backend LokyBackend with 4 concurrent workers.\n",
      "[Parallel(n_jobs=4)]: Done  10 tasks      | elapsed:  4.4min\n",
      "[Parallel(n_jobs=4)]: Done  64 tasks      | elapsed: 15.8min\n",
      "[Parallel(n_jobs=4)]: Done 154 tasks      | elapsed: 41.4min\n",
      "[Parallel(n_jobs=4)]: Done 250 out of 250 | elapsed: 76.9min finished\n"
     ]
    },
    {
     "data": {
      "text/plain": [
       "RandomizedSearchCV(cv=5, error_score=nan,\n",
       "                   estimator=GradientBoostingRegressor(alpha=0.9, ccp_alpha=0.0,\n",
       "                                                       criterion='friedman_mse',\n",
       "                                                       init=None,\n",
       "                                                       learning_rate=0.1,\n",
       "                                                       loss='ls', max_depth=5,\n",
       "                                                       max_features=None,\n",
       "                                                       max_leaf_nodes=None,\n",
       "                                                       min_impurity_decrease=0.0,\n",
       "                                                       min_impurity_split=None,\n",
       "                                                       min_samples_leaf=1,\n",
       "                                                       min_samples_split=2,\n",
       "                                                       min_weight_fraction_leaf=0.0,\n",
       "                                                       n_estimators=400,\n",
       "                                                       n_...\n",
       "                                                          0.005, 0.001],\n",
       "                                        'max_depth': [2, 3, 4, 5, 6, 7],\n",
       "                                        'max_features': [2, 3, 4, 5, 6, 7],\n",
       "                                        'min_samples_leaf': [1, 3, 5, 7, 9],\n",
       "                                        'min_samples_split': [2, 4, 6, 8, 10,\n",
       "                                                              20, 40, 60, 100],\n",
       "                                        'n_estimators': [100, 250, 500, 750,\n",
       "                                                         1000, 1250, 1500,\n",
       "                                                         1750],\n",
       "                                        'subsample': [0.7, 0.75, 0.8, 0.85, 0.9,\n",
       "                                                      0.95, 1]},\n",
       "                   pre_dispatch='2*n_jobs', random_state=42, refit=True,\n",
       "                   return_train_score=True, scoring='neg_mean_absolute_error',\n",
       "                   verbose=5)"
      ]
     },
     "execution_count": 99,
     "metadata": {
      "tags": []
     },
     "output_type": "execute_result"
    }
   ],
   "source": [
    "random_cv.fit(x_train,y_train)"
   ]
  },
  {
   "cell_type": "code",
   "execution_count": null,
   "metadata": {
    "colab": {
     "base_uri": "https://localhost:8080/"
    },
    "id": "ko-Ah8i7AK9w",
    "outputId": "7e7683c8-500c-4aab-a474-3201840ccd15"
   },
   "outputs": [
    {
     "data": {
      "text/plain": [
       "GradientBoostingRegressor(alpha=0.9, ccp_alpha=0.0, criterion='friedman_mse',\n",
       "                          init=None, learning_rate=0.15, loss='ls', max_depth=6,\n",
       "                          max_features=5, max_leaf_nodes=None,\n",
       "                          min_impurity_decrease=0.0, min_impurity_split=None,\n",
       "                          min_samples_leaf=1, min_samples_split=4,\n",
       "                          min_weight_fraction_leaf=0.0, n_estimators=1750,\n",
       "                          n_iter_no_change=None, presort='deprecated',\n",
       "                          random_state=None, subsample=0.85, tol=0.0001,\n",
       "                          validation_fraction=0.1, verbose=0, warm_start=False)"
      ]
     },
     "execution_count": 101,
     "metadata": {
      "tags": []
     },
     "output_type": "execute_result"
    }
   ],
   "source": [
    "random_cv.best_estimator_"
   ]
  },
  {
   "cell_type": "code",
   "execution_count": null,
   "metadata": {
    "id": "swIaFjy3lE2J"
   },
   "outputs": [],
   "source": [
    "clf2 = ensemble.GradientBoostingRegressor(alpha=0.9, ccp_alpha=0.0, criterion='friedman_mse',\n",
    "                          init=None, learning_rate=0.15, loss='ls', max_depth=6,\n",
    "                          max_features=5, max_leaf_nodes=None,\n",
    "                          min_impurity_decrease=0.0, min_impurity_split=None,\n",
    "                          min_samples_leaf=1, min_samples_split=4,\n",
    "                          min_weight_fraction_leaf=0.0, n_estimators=1750,\n",
    "                          n_iter_no_change=None, presort='deprecated',\n",
    "                          random_state=None, subsample=0.85, tol=0.0001,\n",
    "                          validation_fraction=0.1, verbose=0, warm_start=False)"
   ]
  },
  {
   "cell_type": "code",
   "execution_count": null,
   "metadata": {
    "colab": {
     "base_uri": "https://localhost:8080/"
    },
    "id": "RCbV09A5FPLl",
    "outputId": "193c12b5-84f1-4399-d50f-c27a047b9b5f"
   },
   "outputs": [
    {
     "data": {
      "text/plain": [
       "GradientBoostingRegressor(alpha=0.9, ccp_alpha=0.0, criterion='friedman_mse',\n",
       "                          init=None, learning_rate=0.15, loss='ls', max_depth=6,\n",
       "                          max_features=5, max_leaf_nodes=None,\n",
       "                          min_impurity_decrease=0.0, min_impurity_split=None,\n",
       "                          min_samples_leaf=1, min_samples_split=4,\n",
       "                          min_weight_fraction_leaf=0.0, n_estimators=1750,\n",
       "                          n_iter_no_change=None, presort='deprecated',\n",
       "                          random_state=None, subsample=0.85, tol=0.0001,\n",
       "                          validation_fraction=0.1, verbose=0, warm_start=False)"
      ]
     },
     "execution_count": 121,
     "metadata": {
      "tags": []
     },
     "output_type": "execute_result"
    }
   ],
   "source": [
    "clf2.fit(x_train, y_train)"
   ]
  },
  {
   "cell_type": "code",
   "execution_count": null,
   "metadata": {
    "colab": {
     "base_uri": "https://localhost:8080/"
    },
    "id": "en4tGj_wFWJB",
    "outputId": "49f83754-f5ec-439c-8da1-e49c911aab15"
   },
   "outputs": [
    {
     "name": "stdout",
     "output_type": "stream",
     "text": [
      "r2:  0.9461405284955543 \n",
      "mse:  59669.7469661674 \n",
      "mae:  153.89661794913926\n",
      "------------------------------------------\n",
      "r2:  0.9674391108010937 \n",
      "mse:  35847.10271607993 \n",
      "mae:  123.69941807247359\n",
      "<class 'numpy.ndarray'>\n",
      "<class 'numpy.ndarray'>\n"
     ]
    }
   ],
   "source": [
    "evaluate(clf2, x_train, x_test, y_train, y_test)"
   ]
  },
  {
   "cell_type": "code",
   "execution_count": null,
   "metadata": {
    "id": "ne-eLD-xI54R"
   },
   "outputs": [],
   "source": [
    "#Lưu mô hình\n",
    "\n",
    "import pickle\n",
    "\n",
    "pickle.dump(clf2, open('clf2.pkl', 'wb'))"
   ]
  },
  {
   "cell_type": "code",
   "execution_count": null,
   "metadata": {
    "id": "OLBj6V03PzLL"
   },
   "outputs": [],
   "source": [
    "model2 = pickle.load(open('clf2.pkl', 'rb'))"
   ]
  }
 ],
 "metadata": {
  "colab": {
   "collapsed_sections": [],
   "name": "Một ví dụ về xây dựng mô hình dựa trên dữ liệu batdongsan.com.vn",
   "provenance": []
  },
  "kernelspec": {
   "display_name": "Python 3",
   "language": "python",
   "name": "python3"
  },
  "language_info": {
   "codemirror_mode": {
    "name": "ipython",
    "version": 3
   },
   "file_extension": ".py",
   "mimetype": "text/x-python",
   "name": "python",
   "nbconvert_exporter": "python",
   "pygments_lexer": "ipython3",
   "version": "3.8.10"
  }
 },
 "nbformat": 4,
 "nbformat_minor": 1
}
