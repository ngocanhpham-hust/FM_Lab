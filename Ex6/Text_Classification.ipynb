{
 "cells": [
  {
   "cell_type": "code",
   "execution_count": 1,
   "id": "193a0b48",
   "metadata": {},
   "outputs": [],
   "source": [
    "import matplotlib.pyplot as plt\n",
    "import numpy as np\n",
    "\n",
    "from sklearn.datasets import load_files\n",
    "from pyvi import ViTokenizer \n",
    "import sklearn.naive_bayes as naive_bayes\n",
    "from sklearn.datasets import load_files\n",
    "from sklearn.feature_extraction.text import CountVectorizer, TfidfVectorizer\n",
    "from sklearn.feature_extraction.text import TfidfTransformer\n",
    "from sklearn.model_selection import train_test_split, GridSearchCV\n",
    "from sklearn.pipeline import Pipeline\n",
    "from sklearn.model_selection import ShuffleSplit\n",
    "from sklearn.model_selection import learning_curve\n",
    "\n",
    "%matplotlib inline"
   ]
  },
  {
   "cell_type": "code",
   "execution_count": null,
   "id": "409583bd",
   "metadata": {},
   "outputs": [
    {
     "name": "stdout",
     "output_type": "stream",
     "text": [
      "['data/news_1135/Thể thao/2e62de81ade8318f66cc740f5ede5607ea1bf002.txt'\n",
      " 'data/news_1135/Thể thao/f9bd156031140a7db52ae51de4561f234a0eb277.txt'\n",
      " 'data/news_1135/Thể thao/aeeb3b3b0dfc936de928f0b004259aca70aa4efa.txt']\n",
      "\n",
      "Tong so file: 224\n",
      "Danh sách 10 nhãn và id tương ứng:  [(0, 'Giải trí'), (1, 'Khoa học - Công nghệ'), (2, 'Kinh tế'), (3, 'Pháp luật'), (4, 'Sức khỏe'), (5, 'Thể thao'), (6, 'Thời sự')]\n"
     ]
    }
   ],
   "source": [
    "data_train = load_files(container_path = \"data/news_1135/\", encoding = \"utf-8\")\n",
    "\n",
    "print(data_train.filenames[0:3])\n",
    "print()\n",
    "\n",
    "print(\"Tong so file: {}\".format(len(data_train.filenames)))\n",
    "print(\"Danh sách 10 nhãn và id tương ứng: \", [(idx, name) for idx, name in enumerate(data_train.target_names[0:10])] )"
   ]
  },
  {
   "cell_type": "code",
   "execution_count": 4,
   "id": "9b6dd178",
   "metadata": {},
   "outputs": [
    {
     "name": "stdout",
     "output_type": "stream",
     "text": [
      "Content of the first text:  Dân_trí Sáng 5/12 , giải quần_vợt các tay_vợt xuất_sắc Việt_Nam - Cúp Vietravel 2016 đã chính_thức khai_mạc tại TP Vinh - Nghệ_An . Tham_dự giải hơn 30 tay_vợt xuất_sắc nhất của Liên_đoàn quần_vợt Việt_Nam . Dự lễ khai_mạc có ông Nguyễn Trọng Hổ - Vụ_trưởng Vụ thể_thao thành_tích cao II ; Đoàn Quốc Cường - Trưởng bộ_môn quần_vợt Liên_đoàn quần_vợt Việt_Nam ; Nguyễn Quốc Kỳ - Tổng_Giám_đốc Viettravel , Phó_Chủ_tịch kiêm Tổng_thư_ký Liên_đoàn quần_vợt Việt_Nam cùng lãnh_đạo tỉnh Nghệ_An . Giải quần_vợt các cây_vợt xuất_sắc Việt_Nam - Cup Vietravel 2016 do Liên_đoàn Quần_vợt Việt_Nam VTF phối_hợp với Sở VH - TT - DL và Liên_đoàn quần_vợt Nghệ_An NTF tổ_chức ; là giải đấu chuyên_nghiệp quốc_gia lần đầu_tiên được tổ_chức tại Nghệ_An . Ông Nguyễn Quốc Kỳ - PCT kiêm TTK Liên_đoàn quần_vợt Việt_Nam Tham_gia giải lần này có 22 VĐV nam , 9 VĐV nữ có điểm xếp_hạng cao nhất của bộ_môn quần_vợt chuyên_nghiệp , đến từ các trung_tâm quần_vợt lớn trong cả nước như : Thành_phố Hồ Chí Minh ; Bình_Dương ; Hà_Nội , Đà_Nẵng ... Trong đó , những tên_tuổi lớn của làng quần_vợt chuyên_nghiệp Việt_Nam như : Lý Hoàng Nam ; Phạm Minh Tuấn ; Hoàng Thành_Trung ; Trịnh Linh Giang ; Trần Thị Tâm Hảo ; Nguyễn Thị Bé Xuyên ... Các VĐV thi_đấu ở 4 nội_dung gồm : Đơn_nam ; đôi_nam ; đơn_nữ và đôi_nữ theo thể_thức đấu_loại trực_tiếp . Giải đấu là dịp để khích_lệ phong_trào tập_luyện môn Tennis trên địa_bàn tỉnh , là cơ_sở để Nghệ_An hướng đến tổ_chức những giải đấu lớn của quần_vợt chuyên_nghiệp Việt_Nam trong thời_gian tới ; góp_phần quảng_bá hình_ảnh quê_hương Nghệ_An đến với khán_giả cả nước . Phát_biểu tại lễ khai_mạc , ông Huỳnh Thanh_Điền - Phó_Chủ_tịch UBND tỉnh Nghệ_An khẳng_định : Giải quần_vợt các cây_vợt xuất_sắc Việt_Nam Cúp Vietravel 2016 lần đầu_tiên được tổ_chức tại Nghệ_An là bước_tiến mới của phong_trào phát_triển môn quần_vợt tại tỉnh Nghệ_An . Đây là dịp để góp_phần quảng_bá hình_ảnh quê_hương Chủ_tịch Hồ Chí Minh đến với khán_giả cả nước . Giải đấu cũng là cơ_hội rất tốt để Liên_đoàn quần_vợt Nghệ_An ( NTF ) nâng_cao vị_thế của mình trong làng quần_vợt cả nước . Giải Quần_vợt các cây_vợt xuất_sắc Việt_Nam Cúp Vietravel 2016 khởi tranh vòng đấu bảng vào ngày 5-10 / 12 tại sân CLB Trường_Sơn , TP Vinh . Tổng_giá_trị tiền_thưởng lên tới trên 300 triệu đồng . Dịp này , Ban tổ_chức giải đã trao 10 triệu đồng ủng_hộ Trung_tâm bảo_trợ xã_hội tỉnh Nghệ_An . Nguyễn Duy\n",
      "Label of the first text:  Giải trí\n"
     ]
    }
   ],
   "source": [
    "print(\"Content of the first text: \", data_train.data[0])\n",
    "print(\"Label of the first text: \", data_train.target_names[0]) "
   ]
  },
  {
   "cell_type": "code",
   "execution_count": null,
   "id": "54ef1d30",
   "metadata": {},
   "outputs": [
    {
     "name": "stdout",
     "output_type": "stream",
     "text": [
      "Danh sách 10 từ dừng đầu tiên (từ không mang ý nghĩa phân loại):  ['a_lô', 'a_ha', 'ai', 'ai_ai', 'ai_nấy', 'ai_đó', 'alô', 'amen', 'anh', 'anh_ấy']\n",
      "\n",
      "10 từ đầu tiên trong từ điển:\n",
      "\n",
      "1 :  ('dân_trí', 1910)\n",
      "2 :  ('12', 31)\n",
      "3 :  ('giải', 2248)\n",
      "4 :  ('quần_vợt', 5047)\n",
      "5 :  ('tay_vợt', 5655)\n",
      "6 :  ('xuất_sắc', 7201)\n",
      "7 :  ('việt_nam', 6947)\n",
      "8 :  ('cúp', 1574)\n",
      "9 :  ('vietravel', 6912)\n",
      "10 :  ('2016', 124)\n",
      "11 :  ('chính_thức', 1196)\n",
      "\n"
     ]
    }
   ],
   "source": [
    "# load dữ liệu các stopwords \n",
    "with open(\"data/vietnamese-stopwords.txt\",encoding=\"utf8\") as f:\n",
    "    stopwords = f.readlines()\n",
    "\n",
    "stopwords = [x.strip().replace(\" \", \"_\") for x in stopwords] \n",
    "print(\"Danh sách 10 từ dừng đầu tiên (từ không mang ý nghĩa phân loại): \", stopwords[:10])\n",
    "print()\n",
    "\n",
    "# Transforming data \n",
    "# Chuyển hoá dữ liệu text về dạng vector tfidf \n",
    "#     - loại bỏ từ dừng\n",
    "#     - sinh từ điển\n",
    "module_count_vector = CountVectorizer(stop_words = stopwords)\n",
    "model_rf_preprocess = Pipeline([('vect', module_count_vector),\n",
    "                    ('tfidf', TfidfTransformer()),\n",
    "                    ])\n",
    "# Hàm thực hiện chuyển đổi dữ liệu text thành dữ liệu số dạng ma trận \n",
    "# Input: Dữ liệu 2 chiều dạng numpy.array, mảng nhãn id dạng numpy.array \n",
    "\n",
    "# Tiền xử lý với Bag of words\n",
    "data_bow = module_count_vector.fit_transform(data_train.data, data_train.target)\n",
    "# Tiền xử lý với TF-IDF\n",
    "data_tfidf = model_rf_preprocess.fit_transform(data_train.data, data_train.target)\n",
    "\n",
    "print(\"10 từ đầu tiên trong từ điển:\\n\")\n",
    "i = 0\n",
    "for k, v in module_count_vector.vocabulary_.items():\n",
    "    i += 1\n",
    "    print(i, \": \", (k, v))\n",
    "    if i > 10:\n",
    "        break \n",
    "print()"
   ]
  },
  {
   "cell_type": "code",
   "execution_count": 6,
   "id": "cd02c744",
   "metadata": {},
   "outputs": [
    {
     "name": "stdout",
     "output_type": "stream",
     "text": [
      "Dữ liệu training =  (179, 7972) (179,)\n",
      "Dữ liệu testing =  (45, 7972) (45,)\n",
      "\n",
      "Danh sách nhãn và id tương ứng:  [(0, 'Giải trí'), (1, 'Khoa học - Công nghệ'), (2, 'Kinh tế'), (3, 'Pháp luật'), (4, 'Sức khỏe'), (5, 'Thể thao'), (6, 'Thời sự')]\n"
     ]
    }
   ],
   "source": [
    "from sklearn.model_selection import train_test_split\n",
    "\n",
    "X_train_bow, X_test_bow, y_train_bow, y_test_bow = train_test_split(data_bow, data_train.target, test_size = 0.2, random_state = 30)\n",
    "X_train_tfidf, X_test_tfidf, y_train_tfidf, y_test_tfidf = train_test_split(data_tfidf, data_train.target, test_size = 0.2, random_state = 30)\n",
    "\n",
    "print(\"Dữ liệu training = \", X_train_bow.shape, y_train_bow.shape)\n",
    "print(\"Dữ liệu testing = \", X_test_bow.shape, y_test_bow.shape)\n",
    "\n",
    "print() \n",
    "print(\"Danh sách nhãn và id tương ứng: \", [(idx, name) for idx, name in enumerate(data_train.target_names)])"
   ]
  },
  {
   "cell_type": "code",
   "execution_count": 10,
   "id": "4204bef1",
   "metadata": {},
   "outputs": [
    {
     "name": "stdout",
     "output_type": "stream",
     "text": [
      "0 : {'Giải trí'}\n",
      "1 : {'Khoa học - Công nghệ'}\n",
      "2 : {'Kinh tế'}\n",
      "3 : {'Pháp luật'}\n",
      "4 : {'Sức khỏe'}\n"
     ]
    }
   ],
   "source": [
    "for i in range (5):\n",
    "    print(str(i) + ' : ' + str({data_train.target_names[i]}))"
   ]
  },
  {
   "cell_type": "markdown",
   "id": "44171a49",
   "metadata": {},
   "source": [
    "## Training Models"
   ]
  },
  {
   "cell_type": "markdown",
   "id": "034e29f7",
   "metadata": {},
   "source": [
    "1. Multinomial Naive Bayes"
   ]
  },
  {
   "cell_type": "markdown",
   "id": "aa3ff20c",
   "metadata": {},
   "source": [
    "* Sử dụng BoW"
   ]
  },
  {
   "cell_type": "code",
   "execution_count": 15,
   "id": "46dc042f",
   "metadata": {},
   "outputs": [
    {
     "name": "stdout",
     "output_type": "stream",
     "text": [
      "Training ...\n",
      "Train size = (179, 7972)\n",
      "model_MNB - train complete\n"
     ]
    }
   ],
   "source": [
    "print(\"Training ...\")\n",
    "# X_train.shape\n",
    "print(\"Train size = {}\".format(X_train_bow.shape))\n",
    "model_MNB = naive_bayes.MultinomialNB(alpha = 0.1)\n",
    "model_MNB.fit(X_train_bow, y_train_bow)\n",
    "print(\"model_MNB - train complete\")"
   ]
  },
  {
   "cell_type": "markdown",
   "id": "c2c78369",
   "metadata": {},
   "source": [
    "2. Gaussian Naive Bayes"
   ]
  },
  {
   "cell_type": "markdown",
   "id": "97e975d7",
   "metadata": {},
   "source": [
    "* Sử dụng TF-IDF"
   ]
  },
  {
   "cell_type": "code",
   "execution_count": 18,
   "id": "8f05639d",
   "metadata": {},
   "outputs": [
    {
     "name": "stdout",
     "output_type": "stream",
     "text": [
      "Training ...\n",
      "Train size = (179, 7972)\n",
      "model_MNB - train complete\n"
     ]
    }
   ],
   "source": [
    "from sklearn.naive_bayes import GaussianNB\n",
    "\n",
    "print(\"Training ...\")\n",
    "print(\"Train size = {}\".format(X_train_bow.shape))\n",
    "model_GNB = GaussianNB(var_smoothing = 1e-3)\n",
    "model_GNB.fit(X_train_tfidf.toarray(), y_train_tfidf)\n",
    "print(\"model_MNB - train complete\")"
   ]
  },
  {
   "cell_type": "markdown",
   "id": "5919cbc8",
   "metadata": {},
   "source": [
    "## Model Testing"
   ]
  },
  {
   "cell_type": "code",
   "execution_count": 20,
   "id": "d70e6ee1",
   "metadata": {},
   "outputs": [
    {
     "name": "stdout",
     "output_type": "stream",
     "text": [
      "Testing ...\n",
      "Multinomial Naive Bayes using BoW acc = 0.9555555555555556\n",
      "Testing ...\n",
      "Gaussian Naive Bayes using TF-IDF acc = 0.9555555555555556\n"
     ]
    }
   ],
   "source": [
    "from sklearn.metrics import accuracy_score\n",
    "\n",
    "print(\"Testing ...\")\n",
    "y_pred_bow = model_MNB.predict(X_test_bow)\n",
    "print(\"Multinomial Naive Bayes using BoW acc = {}\".format(accuracy_score(y_test_bow, y_pred_bow)))\n",
    "\n",
    "print(\"Testing ...\")\n",
    "y_pred_tfidf = model_GNB.predict(X_test_tfidf.toarray())\n",
    "print(\"Gaussian Naive Bayes using TF-IDF acc = {}\".format(accuracy_score(y_test_tfidf, y_pred_tfidf)))"
   ]
  },
  {
   "cell_type": "markdown",
   "id": "946a8fcd",
   "metadata": {},
   "source": [
    "## Thực hiện sử dụng model đã được train để infer 1 văn bản mới"
   ]
  },
  {
   "cell_type": "code",
   "execution_count": 22,
   "id": "b7c2b796",
   "metadata": {},
   "outputs": [
    {
     "name": "stdout",
     "output_type": "stream",
     "text": [
      "Trường đại_học Bách_khoa Hà_Nội\n"
     ]
    }
   ],
   "source": [
    "a = ViTokenizer.tokenize(\"Trường đại học Bách khoa Hà Nội\")\n",
    "print(a)"
   ]
  },
  {
   "cell_type": "code",
   "execution_count": 23,
   "id": "202ceac6",
   "metadata": {},
   "outputs": [
    {
     "name": "stdout",
     "output_type": "stream",
     "text": [
      "Công Phượng ghi_bàn cho đội_tuyển Việt_Nam\n",
      "<Compressed Sparse Row sparse matrix of dtype 'int64'\n",
      "\twith 5 stored elements and shape (1, 7972)>\n",
      "  Coords\tValues\n",
      "  (0, 1538)\t1\n",
      "  (0, 2177)\t1\n",
      "  (0, 4837)\t1\n",
      "  (0, 6947)\t1\n",
      "  (0, 7877)\t1\n",
      "\n",
      "Danh sách nhãn và id tương ứng:  [(0, 'Giải trí'), (1, 'Khoa học - Công nghệ'), (2, 'Kinh tế'), (3, 'Pháp luật'), (4, 'Sức khỏe'), (5, 'Thể thao'), (6, 'Thời sự')]\n"
     ]
    }
   ],
   "source": [
    "# tiền xử lý dữ liệu sử dụng module module_count_vector.\n",
    "van_ban_moi = ViTokenizer.tokenize(\"Công Phượng ghi bàn cho đội tuyển Việt Nam\")\n",
    "# van_ban_moi = [\"Công_phượng ghi_bàn cho đội_tuyển Việt_nam\"]\n",
    "print(van_ban_moi)\n",
    "input_data_preprocessed = module_count_vector.transform([van_ban_moi])\n",
    "print(input_data_preprocessed)\n",
    "print()\n",
    "print(\"Danh sách nhãn và id tương ứng: \", [(idx, name) for idx, name in enumerate(data_train.target_names)])"
   ]
  },
  {
   "cell_type": "code",
   "execution_count": 30,
   "id": "59003469",
   "metadata": {},
   "outputs": [
    {
     "name": "stdout",
     "output_type": "stream",
     "text": [
      "Công Phượng ghi_bàn cho đội_tuyển Việt_Nam :  Thể thao [5]\n"
     ]
    }
   ],
   "source": [
    "pred = model_MNB.predict(input_data_preprocessed)\n",
    "print(van_ban_moi, ': ', data_train.target_names[pred[0]], pred)"
   ]
  },
  {
   "cell_type": "markdown",
   "id": "60a23146",
   "metadata": {},
   "source": [
    "## Quan sát độ chính xác trên tập test của GNB khi thay đổi tham số 'var_smoothing'"
   ]
  },
  {
   "cell_type": "code",
   "execution_count": 31,
   "id": "aca40ac7",
   "metadata": {},
   "outputs": [
    {
     "name": "stdout",
     "output_type": "stream",
     "text": [
      "0.1 0.9555555555555556\n",
      "0.01 0.9555555555555556\n",
      "0.001 0.9555555555555556\n",
      "0.0001 0.9555555555555556\n",
      "1e-05 0.9555555555555556\n"
     ]
    },
    {
     "data": {
      "image/png": "[encoded data removed]",
      "text/plain": [
       "<Figure size 640x480 with 1 Axes>"
      ]
     },
     "metadata": {},
     "output_type": "display_data"
    }
   ],
   "source": [
    "var_smoothings = [1e-1, 1e-2, 1e-3, 1e-4, 1e-5]\n",
    "accs = []\n",
    "for var_smoothing in var_smoothings:\n",
    "    model_GNB = naive_bayes.GaussianNB(var_smoothing = 1e-3)\n",
    "    model_GNB.fit(X_train_tfidf.toarray(), y_train_tfidf)\n",
    "    y_pred_tfidf = model_GNB.predict(X_test_tfidf.toarray())\n",
    "    acc = accuracy_score(y_test_tfidf, y_pred_tfidf)\n",
    "    accs.append(acc) \n",
    "\n",
    "import seaborn as sns\n",
    "sns.lineplot(x=var_smoothings, y = accs)\n",
    "\n",
    "for i in range(len(accs)):\n",
    "    print(var_smoothings[i], accs[i])\n"
   ]
  },
  {
   "cell_type": "code",
   "execution_count": null,
   "id": "e16f3ab9",
   "metadata": {},
   "outputs": [],
   "source": []
  }
 ],
 "metadata": {
  "kernelspec": {
   "display_name": "Python 3",
   "language": "python",
   "name": "python3"
  },
  "language_info": {
   "codemirror_mode": {
    "name": "ipython",
    "version": 3
   },
   "file_extension": ".py",
   "mimetype": "text/x-python",
   "name": "python",
   "nbconvert_exporter": "python",
   "pygments_lexer": "ipython3",
   "version": "3.11.9"
  }
 },
 "nbformat": 4,
 "nbformat_minor": 5
}
