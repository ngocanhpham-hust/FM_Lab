{
 "cells": [
  {
   "cell_type": "markdown",
   "metadata": {
    "id": "xDFbPx1sJG4K"
   },
   "source": [
    "# Bài tập bổ sung\n",
    "\n",
    "> Phần bài tập này là các câu hỏi  mở rộng, làm tiếp theo bài toán ở trên. Học viên cần viết mã để thực hiện các yêu cầu dưới đây:"
   ]
  },
  {
   "cell_type": "markdown",
   "metadata": {
    "id": "w966RKXmnaiy"
   },
   "source": [
    "Bài tập 0: Sử dụng sns.boxplot() để quan sát đặc điểm phân bố dữ liệu của các trường số, mỗi trường này có outlier ko?"
   ]
  },
  {
   "cell_type": "code",
   "execution_count": null,
   "metadata": {
    "colab": {
     "base_uri": "https://localhost:8080/",
     "height": 909
    },
    "id": "uKRSBk_TnZZh",
    "outputId": "3ecdb9c8-9b58-4aa5-a4ec-d2baaddff91e"
   },
   "outputs": [
    {
     "name": "stderr",
     "output_type": "stream",
     "text": [
      "/usr/local/lib/python3.7/dist-packages/seaborn/_decorators.py:43: FutureWarning: Pass the following variable as a keyword arg: x. From version 0.12, the only valid positional argument will be `data`, and passing other arguments without an explicit keyword will result in an error or misinterpretation.\n",
      "  FutureWarning\n",
      "/usr/local/lib/python3.7/dist-packages/seaborn/_decorators.py:43: FutureWarning: Pass the following variable as a keyword arg: x. From version 0.12, the only valid positional argument will be `data`, and passing other arguments without an explicit keyword will result in an error or misinterpretation.\n",
      "  FutureWarning\n",
      "/usr/local/lib/python3.7/dist-packages/seaborn/_decorators.py:43: FutureWarning: Pass the following variable as a keyword arg: x. From version 0.12, the only valid positional argument will be `data`, and passing other arguments without an explicit keyword will result in an error or misinterpretation.\n",
      "  FutureWarning\n",
      "/usr/local/lib/python3.7/dist-packages/seaborn/_decorators.py:43: FutureWarning: Pass the following variable as a keyword arg: x. From version 0.12, the only valid positional argument will be `data`, and passing other arguments without an explicit keyword will result in an error or misinterpretation.\n",
      "  FutureWarning\n",
      "/usr/local/lib/python3.7/dist-packages/seaborn/_decorators.py:43: FutureWarning: Pass the following variable as a keyword arg: x. From version 0.12, the only valid positional argument will be `data`, and passing other arguments without an explicit keyword will result in an error or misinterpretation.\n",
      "  FutureWarning\n",
      "/usr/local/lib/python3.7/dist-packages/seaborn/_decorators.py:43: FutureWarning: Pass the following variable as a keyword arg: x. From version 0.12, the only valid positional argument will be `data`, and passing other arguments without an explicit keyword will result in an error or misinterpretation.\n",
      "  FutureWarning\n"
     ]
    },
    {
     "data": {
      "image/png": "[encoded data removed]",
      "text/plain": [
       "<Figure size 1152x864 with 6 Axes>"
      ]
     },
     "metadata": {
      "needs_background": "light"
     },
     "output_type": "display_data"
    }
   ],
   "source": [
    "# Sử dụng boxplot để quan sát phân bố của dữ liệu và phát hiện ngoại lai của từng trường dữ liệu\n",
    "# Gợi ý: sns.boxplot(data_field)\n",
    "\n",
    "vars = ['price', 'total_sqft_float', 'price_per_sqft', 'balcony', 'bath', 'bhk']\n",
    "plt.figure(figsize=(16,12))\n",
    "for i,var in enumerate(vars):\n",
    "  plt.subplot(3,2,i+1)\n",
    "  sns.boxplot(df8[var])\n"
   ]
  },
  {
   "cell_type": "markdown",
   "metadata": {
    "id": "eLhjgWGveMhf"
   },
   "source": [
    "Bài tập 1: Viết hàm bỏ đi các điểm dữ liệu có price per sqft dựa trên mean, std của các ngôi nhà dựa trên từng vị trí\n",
    "\n",
    "> Gợi ý: Xét trên từng vị trí (location), ngôi nhà thỏa mãn phải có $price\\_per\\_sqft \\in [mean - std, mean + std]$"
   ]
  },
  {
   "cell_type": "code",
   "execution_count": null,
   "metadata": {
    "colab": {
     "base_uri": "https://localhost:8080/"
    },
    "id": "qpAdC6wJwJ5E",
    "outputId": "d117e1f9-541d-4c12-af21-bcc36cf4c989"
   },
   "outputs": [
    {
     "data": {
      "text/plain": [
       "(8888, 11)"
      ]
     },
     "execution_count": 43,
     "metadata": {},
     "output_type": "execute_result"
    }
   ],
   "source": [
    "# Viết hàm tại đây\n",
    "def remove_pps_outliers(df):\n",
    "  df_out = pd.DataFrame()\n",
    "  for key, subdf in df.groupby('location'):\n",
    "    m=np.mean(subdf.price_per_sqft)\n",
    "    st=np.std(subdf.price_per_sqft)\n",
    "    reduced_df = subdf[(subdf.price_per_sqft>(m-st))&(subdf.price_per_sqft<=(m+st))]\n",
    "    df_out = pd.concat([df_out, reduced_df], ignore_index = True)\n",
    "  return df_out\n",
    "#--------\n",
    "df9 = remove_pps_outliers(df8)\n",
    "df9.shape"
   ]
  },
  {
   "cell_type": "markdown",
   "metadata": {
    "id": "WR0jq1aheMhh"
   },
   "source": [
    "Bài tập 2: Loại bỏ outlier xét theo trường bkh (số phòng)\n",
    "\n",
    "Xét theo từng khu vực địa lí và theo từng loại nhà với số lượng phòng khác nhau, có một số ngôi nhà có giá không hợp lí (outliers), hãy tìm cách loại bỏ các outlier này. Cần ghi rõ quy tắc ghi nhận outlier"
   ]
  },
  {
   "cell_type": "code",
   "execution_count": null,
   "metadata": {
    "colab": {
     "base_uri": "https://localhost:8080/"
    },
    "id": "6RtsF0zbyqY7",
    "outputId": "39477a6c-913c-4cdf-80eb-948646ae370c"
   },
   "outputs": [
    {
     "data": {
      "text/plain": [
       "(7194, 11)"
      ]
     },
     "execution_count": 61,
     "metadata": {},
     "output_type": "execute_result"
    }
   ],
   "source": [
    "def remove_bhk_outliers(df):\n",
    "  exclude_indices = np.array([])\n",
    "  for location, location_df in df.groupby('location'):\n",
    "    bhk_stats = {}\n",
    "    for bhk, bhk_df in location_df.groupby('bhk'):\n",
    "      bhk_stats[bhk]={\n",
    "          'mean':np.mean(bhk_df.price_per_sqft),\n",
    "          'std':np.std(bhk_df.price_per_sqft),\n",
    "          'count':bhk_df.shape[0]}\n",
    "    for bhk, bhk_df in location_df.groupby('bhk'):\n",
    "      stats=bhk_stats.get(bhk-1)\n",
    "      if stats and stats['count']>5:\n",
    "        exclude_indices = np.append(exclude_indices, bhk_df[bhk_df.price_per_sqft<(stats['mean'])].index.values)\n",
    "  return df.drop(exclude_indices, axis='index')\n",
    "\n",
    "df10 = remove_bhk_outliers(df9)\n",
    "df10.shape"
   ]
  },
  {
   "cell_type": "markdown",
   "metadata": {
    "id": "QQ7lWGTG0f7_"
   },
   "source": [
    "Bài tập 3: Loại bỏ outlier khi xét trường 'bathroom'"
   ]
  },
  {
   "cell_type": "code",
   "execution_count": null,
   "metadata": {
    "colab": {
     "base_uri": "https://localhost:8080/"
    },
    "id": "8sdFD1NZ0H4t",
    "outputId": "8615f5cb-4ea4-43b9-903f-d353471aef09"
   },
   "outputs": [
    {
     "data": {
      "text/plain": [
       "array([ 3.,  2.,  1.,  4.,  5.,  8.,  9.,  6.,  7., 12.])"
      ]
     },
     "execution_count": 62,
     "metadata": {},
     "output_type": "execute_result"
    }
   ],
   "source": [
    "df10.bath.unique() #Có thể quan sát thấý một số căn nhà có số phòng tắm quá lớn (VD: 12!!!)"
   ]
  },
  {
   "cell_type": "code",
   "execution_count": null,
   "metadata": {
    "colab": {
     "base_uri": "https://localhost:8080/",
     "height": 264
    },
    "id": "2eUHdFGs0p_Q",
    "outputId": "7482025e-a9cc-4df9-d22c-4cb6eaf216d1"
   },
   "outputs": [
    {
     "data": {
      "text/html": [
       "<div>\n",
       "<style scoped>\n",
       "    .dataframe tbody tr th:only-of-type {\n",
       "        vertical-align: middle;\n",
       "    }\n",
       "\n",
       "    .dataframe tbody tr th {\n",
       "        vertical-align: top;\n",
       "    }\n",
       "\n",
       "    .dataframe thead th {\n",
       "        text-align: right;\n",
       "    }\n",
       "</style>\n",
       "<table border=\"1\" class=\"dataframe\">\n",
       "  <thead>\n",
       "    <tr style=\"text-align: right;\">\n",
       "      <th></th>\n",
       "      <th>area_type</th>\n",
       "      <th>availability</th>\n",
       "      <th>location</th>\n",
       "      <th>size</th>\n",
       "      <th>total_sqft</th>\n",
       "      <th>bath</th>\n",
       "      <th>balcony</th>\n",
       "      <th>price</th>\n",
       "      <th>total_sqft_float</th>\n",
       "      <th>bhk</th>\n",
       "      <th>price_per_sqft</th>\n",
       "    </tr>\n",
       "  </thead>\n",
       "  <tbody>\n",
       "    <tr>\n",
       "      <th>1861</th>\n",
       "      <td>Built-up  Area</td>\n",
       "      <td>Ready To Move</td>\n",
       "      <td>Chikkabanavar</td>\n",
       "      <td>4 Bedroom</td>\n",
       "      <td>2460</td>\n",
       "      <td>7.0</td>\n",
       "      <td>2.000000</td>\n",
       "      <td>80.0</td>\n",
       "      <td>2460.0</td>\n",
       "      <td>4</td>\n",
       "      <td>3252.032520</td>\n",
       "    </tr>\n",
       "    <tr>\n",
       "      <th>5836</th>\n",
       "      <td>Built-up  Area</td>\n",
       "      <td>Ready To Move</td>\n",
       "      <td>Nagasandra</td>\n",
       "      <td>4 Bedroom</td>\n",
       "      <td>7000</td>\n",
       "      <td>8.0</td>\n",
       "      <td>1.584376</td>\n",
       "      <td>450.0</td>\n",
       "      <td>7000.0</td>\n",
       "      <td>4</td>\n",
       "      <td>6428.571429</td>\n",
       "    </tr>\n",
       "    <tr>\n",
       "      <th>7098</th>\n",
       "      <td>Super built-up  Area</td>\n",
       "      <td>Ready To Move</td>\n",
       "      <td>Sathya Sai Layout</td>\n",
       "      <td>6 BHK</td>\n",
       "      <td>11338</td>\n",
       "      <td>9.0</td>\n",
       "      <td>1.000000</td>\n",
       "      <td>1000.0</td>\n",
       "      <td>11338.0</td>\n",
       "      <td>6</td>\n",
       "      <td>8819.897689</td>\n",
       "    </tr>\n",
       "    <tr>\n",
       "      <th>7569</th>\n",
       "      <td>Super built-up  Area</td>\n",
       "      <td>Ready To Move</td>\n",
       "      <td>Thanisandra</td>\n",
       "      <td>3 BHK</td>\n",
       "      <td>1806</td>\n",
       "      <td>6.0</td>\n",
       "      <td>2.000000</td>\n",
       "      <td>116.0</td>\n",
       "      <td>1806.0</td>\n",
       "      <td>3</td>\n",
       "      <td>6423.034330</td>\n",
       "    </tr>\n",
       "  </tbody>\n",
       "</table>\n",
       "</div>"
      ],
      "text/plain": [
       "                 area_type   availability           location       size  \\\n",
       "1861        Built-up  Area  Ready To Move      Chikkabanavar  4 Bedroom   \n",
       "5836        Built-up  Area  Ready To Move         Nagasandra  4 Bedroom   \n",
       "7098  Super built-up  Area  Ready To Move  Sathya Sai Layout      6 BHK   \n",
       "7569  Super built-up  Area  Ready To Move        Thanisandra      3 BHK   \n",
       "\n",
       "     total_sqft  bath   balcony   price  total_sqft_float  bhk  price_per_sqft  \n",
       "1861       2460   7.0  2.000000    80.0            2460.0    4     3252.032520  \n",
       "5836       7000   8.0  1.584376   450.0            7000.0    4     6428.571429  \n",
       "7098      11338   9.0  1.000000  1000.0           11338.0    6     8819.897689  \n",
       "7569       1806   6.0  2.000000   116.0            1806.0    3     6423.034330  "
      ]
     },
     "execution_count": 63,
     "metadata": {},
     "output_type": "execute_result"
    }
   ],
   "source": [
    "df10[df10.bath > df10.bhk+2]"
   ]
  },
  {
   "cell_type": "code",
   "execution_count": null,
   "metadata": {
    "colab": {
     "base_uri": "https://localhost:8080/"
    },
    "id": "nrpCKw3Q03fG",
    "outputId": "496cf3fa-0d61-4160-cca2-799e4bf1f5d0"
   },
   "outputs": [
    {
     "data": {
      "text/plain": [
       "(7120, 11)"
      ]
     },
     "execution_count": 64,
     "metadata": {},
     "output_type": "execute_result"
    }
   ],
   "source": [
    "df11 = df10[df10.bath < df10.bhk+2]\n",
    "df11.shape"
   ]
  },
  {
   "cell_type": "code",
   "execution_count": null,
   "metadata": {
    "colab": {
     "base_uri": "https://localhost:8080/",
     "height": 312
    },
    "id": "JMVuL-QJ2cxm",
    "outputId": "9f4500a7-0303-4373-afef-53e524ddbc70"
   },
   "outputs": [
    {
     "data": {
      "text/html": [
       "<div>\n",
       "<style scoped>\n",
       "    .dataframe tbody tr th:only-of-type {\n",
       "        vertical-align: middle;\n",
       "    }\n",
       "\n",
       "    .dataframe tbody tr th {\n",
       "        vertical-align: top;\n",
       "    }\n",
       "\n",
       "    .dataframe thead th {\n",
       "        text-align: right;\n",
       "    }\n",
       "</style>\n",
       "<table border=\"1\" class=\"dataframe\">\n",
       "  <thead>\n",
       "    <tr style=\"text-align: right;\">\n",
       "      <th></th>\n",
       "      <th>area_type</th>\n",
       "      <th>availability</th>\n",
       "      <th>location</th>\n",
       "      <th>size</th>\n",
       "      <th>total_sqft</th>\n",
       "      <th>bath</th>\n",
       "      <th>balcony</th>\n",
       "      <th>price</th>\n",
       "      <th>total_sqft_float</th>\n",
       "      <th>bhk</th>\n",
       "      <th>price_per_sqft</th>\n",
       "    </tr>\n",
       "  </thead>\n",
       "  <tbody>\n",
       "    <tr>\n",
       "      <th>0</th>\n",
       "      <td>Super built-up  Area</td>\n",
       "      <td>Ready To Move</td>\n",
       "      <td>Devarabeesana Halli</td>\n",
       "      <td>3 BHK</td>\n",
       "      <td>1672</td>\n",
       "      <td>3.0</td>\n",
       "      <td>2.0</td>\n",
       "      <td>150.0</td>\n",
       "      <td>1672.0</td>\n",
       "      <td>3</td>\n",
       "      <td>8971.291866</td>\n",
       "    </tr>\n",
       "    <tr>\n",
       "      <th>1</th>\n",
       "      <td>Built-up  Area</td>\n",
       "      <td>Ready To Move</td>\n",
       "      <td>Devarabeesana Halli</td>\n",
       "      <td>3 BHK</td>\n",
       "      <td>1750</td>\n",
       "      <td>3.0</td>\n",
       "      <td>3.0</td>\n",
       "      <td>149.0</td>\n",
       "      <td>1750.0</td>\n",
       "      <td>3</td>\n",
       "      <td>8514.285714</td>\n",
       "    </tr>\n",
       "    <tr>\n",
       "      <th>2</th>\n",
       "      <td>Super built-up  Area</td>\n",
       "      <td>Ready To Move</td>\n",
       "      <td>Devarabeesana Halli</td>\n",
       "      <td>3 BHK</td>\n",
       "      <td>1750</td>\n",
       "      <td>3.0</td>\n",
       "      <td>2.0</td>\n",
       "      <td>150.0</td>\n",
       "      <td>1750.0</td>\n",
       "      <td>3</td>\n",
       "      <td>8571.428571</td>\n",
       "    </tr>\n",
       "    <tr>\n",
       "      <th>4</th>\n",
       "      <td>Super built-up  Area</td>\n",
       "      <td>Ready To Move</td>\n",
       "      <td>Devarachikkanahalli</td>\n",
       "      <td>2 BHK</td>\n",
       "      <td>1250</td>\n",
       "      <td>2.0</td>\n",
       "      <td>2.0</td>\n",
       "      <td>40.0</td>\n",
       "      <td>1250.0</td>\n",
       "      <td>2</td>\n",
       "      <td>3200.000000</td>\n",
       "    </tr>\n",
       "    <tr>\n",
       "      <th>5</th>\n",
       "      <td>Plot  Area</td>\n",
       "      <td>Ready To Move</td>\n",
       "      <td>Devarachikkanahalli</td>\n",
       "      <td>2 Bedroom</td>\n",
       "      <td>1200</td>\n",
       "      <td>2.0</td>\n",
       "      <td>2.0</td>\n",
       "      <td>83.0</td>\n",
       "      <td>1200.0</td>\n",
       "      <td>2</td>\n",
       "      <td>6916.666667</td>\n",
       "    </tr>\n",
       "  </tbody>\n",
       "</table>\n",
       "</div>"
      ],
      "text/plain": [
       "              area_type   availability              location       size  \\\n",
       "0  Super built-up  Area  Ready To Move   Devarabeesana Halli      3 BHK   \n",
       "1        Built-up  Area  Ready To Move   Devarabeesana Halli      3 BHK   \n",
       "2  Super built-up  Area  Ready To Move   Devarabeesana Halli      3 BHK   \n",
       "4  Super built-up  Area  Ready To Move   Devarachikkanahalli      2 BHK   \n",
       "5            Plot  Area  Ready To Move   Devarachikkanahalli  2 Bedroom   \n",
       "\n",
       "  total_sqft  bath  balcony  price  total_sqft_float  bhk  price_per_sqft  \n",
       "0       1672   3.0      2.0  150.0            1672.0    3     8971.291866  \n",
       "1       1750   3.0      3.0  149.0            1750.0    3     8514.285714  \n",
       "2       1750   3.0      2.0  150.0            1750.0    3     8571.428571  \n",
       "4       1250   2.0      2.0   40.0            1250.0    2     3200.000000  \n",
       "5       1200   2.0      2.0   83.0            1200.0    2     6916.666667  "
      ]
     },
     "execution_count": 65,
     "metadata": {},
     "output_type": "execute_result"
    }
   ],
   "source": [
    "df11.head()"
   ]
  },
  {
   "cell_type": "code",
   "execution_count": null,
   "metadata": {
    "colab": {
     "base_uri": "https://localhost:8080/",
     "height": 909
    },
    "id": "pNXZiHv9138i",
    "outputId": "44e4c222-bbfd-48b9-d32f-b9b4102aecc6"
   },
   "outputs": [
    {
     "name": "stderr",
     "output_type": "stream",
     "text": [
      "/usr/local/lib/python3.7/dist-packages/seaborn/_decorators.py:43: FutureWarning: Pass the following variable as a keyword arg: x. From version 0.12, the only valid positional argument will be `data`, and passing other arguments without an explicit keyword will result in an error or misinterpretation.\n",
      "  FutureWarning\n",
      "/usr/local/lib/python3.7/dist-packages/seaborn/_decorators.py:43: FutureWarning: Pass the following variable as a keyword arg: x. From version 0.12, the only valid positional argument will be `data`, and passing other arguments without an explicit keyword will result in an error or misinterpretation.\n",
      "  FutureWarning\n",
      "/usr/local/lib/python3.7/dist-packages/seaborn/_decorators.py:43: FutureWarning: Pass the following variable as a keyword arg: x. From version 0.12, the only valid positional argument will be `data`, and passing other arguments without an explicit keyword will result in an error or misinterpretation.\n",
      "  FutureWarning\n",
      "/usr/local/lib/python3.7/dist-packages/seaborn/_decorators.py:43: FutureWarning: Pass the following variable as a keyword arg: x. From version 0.12, the only valid positional argument will be `data`, and passing other arguments without an explicit keyword will result in an error or misinterpretation.\n",
      "  FutureWarning\n",
      "/usr/local/lib/python3.7/dist-packages/seaborn/_decorators.py:43: FutureWarning: Pass the following variable as a keyword arg: x. From version 0.12, the only valid positional argument will be `data`, and passing other arguments without an explicit keyword will result in an error or misinterpretation.\n",
      "  FutureWarning\n",
      "/usr/local/lib/python3.7/dist-packages/seaborn/_decorators.py:43: FutureWarning: Pass the following variable as a keyword arg: x. From version 0.12, the only valid positional argument will be `data`, and passing other arguments without an explicit keyword will result in an error or misinterpretation.\n",
      "  FutureWarning\n"
     ]
    },
    {
     "data": {
      "image/png": "[encoded data removed]",
      "text/plain": [
       "<Figure size 1152x864 with 6 Axes>"
      ]
     },
     "metadata": {
      "needs_background": "light"
     },
     "output_type": "display_data"
    }
   ],
   "source": [
    "#Quan sát lại kết quả sau khi xử lí với boxplot\n",
    "plt.figure(figsize=(16,12))\n",
    "for i,var in enumerate(vars):\n",
    "  plt.subplot(3,2,i+1)\n",
    "  sns.boxplot(df11[var])"
   ]
  },
  {
   "cell_type": "markdown",
   "metadata": {
    "id": "EgDGb6a6pXUe"
   },
   "source": [
    "Bài tập 4: Xem xét bỏ đi các trường không cần thiết\n",
    "\n",
    "Gợi ý: bỏ đi ['area_type', 'availability',\"location\",\"size\",\"total_sqft\"]"
   ]
  },
  {
   "cell_type": "code",
   "execution_count": null,
   "metadata": {
    "colab": {
     "base_uri": "https://localhost:8080/",
     "height": 205
    },
    "id": "d2uIPGKJ3ZKD",
    "outputId": "5857b64c-7110-4d74-f099-68dd151722f0"
   },
   "outputs": [
    {
     "data": {
      "text/html": [
       "<div>\n",
       "<style scoped>\n",
       "    .dataframe tbody tr th:only-of-type {\n",
       "        vertical-align: middle;\n",
       "    }\n",
       "\n",
       "    .dataframe tbody tr th {\n",
       "        vertical-align: top;\n",
       "    }\n",
       "\n",
       "    .dataframe thead th {\n",
       "        text-align: right;\n",
       "    }\n",
       "</style>\n",
       "<table border=\"1\" class=\"dataframe\">\n",
       "  <thead>\n",
       "    <tr style=\"text-align: right;\">\n",
       "      <th></th>\n",
       "      <th>bath</th>\n",
       "      <th>balcony</th>\n",
       "      <th>price</th>\n",
       "      <th>total_sqft_float</th>\n",
       "      <th>bhk</th>\n",
       "      <th>price_per_sqft</th>\n",
       "    </tr>\n",
       "  </thead>\n",
       "  <tbody>\n",
       "    <tr>\n",
       "      <th>0</th>\n",
       "      <td>3.0</td>\n",
       "      <td>2.0</td>\n",
       "      <td>150.0</td>\n",
       "      <td>1672.0</td>\n",
       "      <td>3</td>\n",
       "      <td>8971.291866</td>\n",
       "    </tr>\n",
       "    <tr>\n",
       "      <th>1</th>\n",
       "      <td>3.0</td>\n",
       "      <td>3.0</td>\n",
       "      <td>149.0</td>\n",
       "      <td>1750.0</td>\n",
       "      <td>3</td>\n",
       "      <td>8514.285714</td>\n",
       "    </tr>\n",
       "    <tr>\n",
       "      <th>2</th>\n",
       "      <td>3.0</td>\n",
       "      <td>2.0</td>\n",
       "      <td>150.0</td>\n",
       "      <td>1750.0</td>\n",
       "      <td>3</td>\n",
       "      <td>8571.428571</td>\n",
       "    </tr>\n",
       "    <tr>\n",
       "      <th>4</th>\n",
       "      <td>2.0</td>\n",
       "      <td>2.0</td>\n",
       "      <td>40.0</td>\n",
       "      <td>1250.0</td>\n",
       "      <td>2</td>\n",
       "      <td>3200.000000</td>\n",
       "    </tr>\n",
       "    <tr>\n",
       "      <th>5</th>\n",
       "      <td>2.0</td>\n",
       "      <td>2.0</td>\n",
       "      <td>83.0</td>\n",
       "      <td>1200.0</td>\n",
       "      <td>2</td>\n",
       "      <td>6916.666667</td>\n",
       "    </tr>\n",
       "  </tbody>\n",
       "</table>\n",
       "</div>"
      ],
      "text/plain": [
       "   bath  balcony  price  total_sqft_float  bhk  price_per_sqft\n",
       "0   3.0      2.0  150.0            1672.0    3     8971.291866\n",
       "1   3.0      3.0  149.0            1750.0    3     8514.285714\n",
       "2   3.0      2.0  150.0            1750.0    3     8571.428571\n",
       "4   2.0      2.0   40.0            1250.0    2     3200.000000\n",
       "5   2.0      2.0   83.0            1200.0    2     6916.666667"
      ]
     },
     "execution_count": 52,
     "metadata": {},
     "output_type": "execute_result"
    }
   ],
   "source": [
    "df12 = df11.drop(['area_type', 'availability',\"location\",\"size\",\"total_sqft\"], axis =1)\n",
    "df12.head()"
   ]
  },
  {
   "cell_type": "code",
   "execution_count": null,
   "metadata": {
    "id": "q13U9W1U30gR"
   },
   "outputs": [],
   "source": [
    "#Lưu kết quả xử lí cuối cùng:\n",
    "\n",
    "df12.to_csv(\"clean_data.csv\", index=False)"
   ]
  },
  {
   "cell_type": "markdown",
   "metadata": {
    "id": "GI125wJWKbP4"
   },
   "source": [
    "Bài tập 5*: Viết hàm trực quan hóa thể hiện mối tương quan giữa tổng diện tích (total_sqft) và giá nhà (price) theo từng vị trí địa lí (location) (tùy chọn minh họa theo 2 vị trí nào đó), của những căn nhà có 2 hoặc 3 phòng. Và cần phân biệt rõ điểm dữ liệu nào tương ứng với nhà có 2 phòng, điểm nào tương ứng với nhà có 3 phòng?\n",
    "\n",
    "Gợi ý: Kết quả tương tự như hình dưới/ hoặc biểu đồ khác có ý nghĩa tương đương\n",
    "\n",
    "![viz.png](data:image/png;base64,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)"
   ]
  },
  {
   "cell_type": "code",
   "execution_count": null,
   "metadata": {
    "colab": {
     "base_uri": "https://localhost:8080/",
     "height": 513
    },
    "id": "ZE5Do-K8xXyp",
    "outputId": "ec9d61a1-c171-4b61-8719-33df24138339"
   },
   "outputs": [
    {
     "data": {
      "image/png": "[encoded data removed]",
      "text/plain": [
       "<Figure size 1152x648 with 1 Axes>"
      ]
     },
     "metadata": {
      "needs_background": "light"
     },
     "output_type": "display_data"
    }
   ],
   "source": [
    "#Gợi ý: Sử dụng plt.scatter() .... hoạc câu lệnh khác tương đương. Làm với df9\n",
    "\n",
    "def plot_scatter_chart(df,location):\n",
    "  bhk2 = df[(df.location==location) & (df.bhk==2)]\n",
    "  bhk3 = df[(df.location==location) & (df.bhk==3)]\n",
    "  plt.figure(figsize=(16,9))\n",
    "  plt.scatter(bhk2.total_sqft_float, bhk2.price, color='Blue', label='2 BHK', s=50)\n",
    "  plt.scatter(bhk3.total_sqft_float, bhk3.price, color='Red', label='3 BHK', s=50, marker=\"+\")\n",
    "  plt.xlabel(\"Total Square Feet Area\")\n",
    "  plt.ylabel(\"Price\")\n",
    "  plt.title(location)\n",
    "  plt.legend()\n",
    "\n",
    "plot_scatter_chart(df9, \"Rajaji Nagar\")"
   ]
  },
  {
   "cell_type": "code",
   "execution_count": null,
   "metadata": {
    "colab": {
     "base_uri": "https://localhost:8080/",
     "height": 513
    },
    "id": "OWYS0z-wyD3d",
    "outputId": "0c156ddd-25e6-4e5d-f4e0-6837323c81ff"
   },
   "outputs": [
    {
     "data": {
      "image/png": "[encoded data removed]",
      "text/plain": [
       "<Figure size 1152x648 with 1 Axes>"
      ]
     },
     "metadata": {
      "needs_background": "light"
     },
     "output_type": "display_data"
    }
   ],
   "source": [
    "plot_scatter_chart(df9, \"Hebbal\")"
   ]
  },
  {
   "cell_type": "markdown",
   "metadata": {
    "id": "uSVcpIgYmMo8"
   },
   "source": [
    "Bài tập 6*: Thực hiện các câu lệnh để trả lời các câu hỏi dưới đây:"
   ]
  },
  {
   "cell_type": "code",
   "execution_count": null,
   "metadata": {
    "colab": {
     "base_uri": "https://localhost:8080/",
     "height": 629
    },
    "id": "pWS_6MLbCxLu",
    "outputId": "44f31f82-58d2-431e-b486-4166fa70a65b"
   },
   "outputs": [
    {
     "data": {
      "image/png": "[encoded data removed]",
      "text/plain": [
       "<Figure size 1280x800 with 1 Axes>"
      ]
     },
     "metadata": {
      "needs_background": "light"
     },
     "output_type": "display_data"
    }
   ],
   "source": [
    "# Thống kê gias nhà theo từng loại khu vực (area_type). Làm với df9\n",
    "# Gợi ý: Phần này có thể đưa ra kết quả dạng bảng hoặc biểu đồ (cột, histogram, ...). Sử dụng các lệnh: df.groupby(), df.sortvalues(), ...\n",
    "# xem xét theo từng khu vực, thì giá nhà trung bình (price_per_sqft) là bao nhiêu, tương quan về giá nhà trung bình giữa các khu vực\n",
    "\n",
    "import random \n",
    "\n",
    "df91 = df9.groupby('area_type')['price_per_sqft'].mean().reset_index(name='money')\n",
    "df91 = df91.sort_values(by = 'money') \n",
    "\n",
    "df91['money'] = df91['money'].apply(lambda x : round(x, 2))\n",
    "n = df91['area_type'].unique().__len__()+1\n",
    "all_colors = list(plt.cm.colors.cnames.keys())\n",
    "\n",
    "random.seed(100) #Chọn màu ngẫu nhiên cho các cột :)\n",
    "c = random.choices(all_colors, k=n)\n",
    "\n",
    "plt.figure(figsize=(16,10), dpi= 80)\n",
    "plt.bar(df91['area_type'], df91['money'], color=c, width=.5)\n",
    "for i, val in enumerate(df91['money'].values):\n",
    "    plt.text(i, val, float(val), horizontalalignment='center', verticalalignment='bottom', fontdict={'fontweight':500, 'size':12})\n",
    "\n",
    "plt.gca().set_xticklabels(df2['area_type'], rotation=60, horizontalalignment= 'right')\n",
    "plt.title(\"Biểu đồ thể hiện giá nhà đất trung bình theo khu vực\", fontsize=22)\n",
    "plt.ylabel('amount of money')\n",
    "# plt.ylim(25,35)\n",
    "plt.show()\n"
   ]
  }
 ],
 "metadata": {
  "colab": {
   "collapsed_sections": [
    "1RCu8-CFeMhF",
    "CpaCNh31eMhK",
    "28ZmNDczeMhM",
    "J_NF04EUfggt",
    "N6cwp4CoeMhQ",
    "ttrTU8D5eMhT",
    "0ihcur-ZeMhV",
    "VBSkeexNeMhV",
    "Tvm0Qz57eMhW",
    "WM_tZEv8hn0T",
    "re24TUzKhziC",
    "Qcgt_I-peMhX",
    "AfdCmCvqeMhY",
    "nIApOtcueMhY",
    "0dVGYOQfeMhZ",
    "GRhuPohueMhZ",
    "iZYq16CHeMha",
    "0mX13Sa0lpdG",
    "Mx3cOc9xeMhb",
    "hdcAAh7teMhc",
    "k4aiX9WlqQ8W",
    "T5MYsXmHeMhd",
    "-M7Q3R6jeMhd",
    "1k1PpxdVeMhe",
    "eLhjgWGveMhf",
    "WR0jq1aheMhh",
    "QQ7lWGTG0f7_",
    "E5HCrslMeMhm"
   ],
   "name": "Data_Preprocessing - Đáp án thực hành.ipynb",
   "provenance": []
  },
  "kernelspec": {
   "display_name": "Python 3",
   "language": "python",
   "name": "python3"
  },
  "language_info": {
   "codemirror_mode": {
    "name": "ipython",
    "version": 3
   },
   "file_extension": ".py",
   "mimetype": "text/x-python",
   "name": "python",
   "nbconvert_exporter": "python",
   "pygments_lexer": "ipython3",
   "version": "3.8.10"
  }
 },
 "nbformat": 4,
 "nbformat_minor": 1
}
