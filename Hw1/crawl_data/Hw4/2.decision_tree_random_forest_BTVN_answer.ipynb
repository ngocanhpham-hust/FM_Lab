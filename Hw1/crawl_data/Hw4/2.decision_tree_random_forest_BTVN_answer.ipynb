{
 "cells": [
  {
   "cell_type": "markdown",
   "metadata": {},
   "source": [
    "# Bài tập về nhà Decision Tree, Random Forest\n"
   ]
  },
  {
   "cell_type": "markdown",
   "metadata": {},
   "source": [
    "- Thực hiện các yêu cầu dưới đây với tập dữ liệu Australian credit\n",
    "- Down dữ liệu tại đường link dưới đây và đặt vào folder /data\n",
    " \n",
    "  https://archive.ics.uci.edu/ml/datasets/Statlog+(Australian+Credit+Approval)\n",
    "    "
   ]
  },
  {
   "cell_type": "code",
   "execution_count": 1,
   "metadata": {},
   "outputs": [],
   "source": [
    "import numpy as np\n",
    "import pandas as pd\n",
    "from sklearn.model_selection import train_test_split, GridSearchCV, learning_curve, ShuffleSplit, cross_val_score\n",
    "from sklearn.feature_selection import SelectFromModel\n",
    "from sklearn.metrics import accuracy_score, confusion_matrix, classification_report, f1_score, roc_auc_score\n",
    "from sklearn.preprocessing import OneHotEncoder\n",
    "from sklearn.compose import ColumnTransformer\n",
    "\n",
    "import matplotlib.pyplot as plt\n",
    "\n",
    "from sklearn.ensemble import RandomForestClassifier \n",
    "from sklearn.tree import DecisionTreeClassifier \n",
    "\n",
    "random_state = 0\n"
   ]
  },
  {
   "cell_type": "markdown",
   "metadata": {},
   "source": [
    "## 1. Tìm hiểu dữ liệu"
   ]
  },
  {
   "cell_type": "code",
   "execution_count": 28,
   "metadata": {},
   "outputs": [
    {
     "name": "stdout",
     "output_type": "stream",
     "text": [
      "    X1     X2     X3   X4   X5   X6     X7   X8   X9   X10  X11  X12    X13  \\\n",
      "0  1.0  22.08  11.46  2.0  4.0  4.0  1.585  0.0  0.0   0.0  1.0  2.0  100.0   \n",
      "1  0.0  22.67   7.00  2.0  8.0  4.0  0.165  0.0  0.0   0.0  0.0  2.0  160.0   \n",
      "2  0.0  29.58   1.75  1.0  4.0  4.0  1.250  0.0  0.0   0.0  1.0  2.0  280.0   \n",
      "3  0.0  21.67  11.50  1.0  5.0  3.0  0.000  1.0  1.0  11.0  1.0  2.0    0.0   \n",
      "4  1.0  20.17   8.17  2.0  6.0  4.0  1.960  1.0  1.0  14.0  0.0  2.0   60.0   \n",
      "\n",
      "      X14    Y  \n",
      "0  1213.0  0.0  \n",
      "1     1.0  0.0  \n",
      "2     1.0  0.0  \n",
      "3     1.0  1.0  \n",
      "4   159.0  1.0  \n",
      "(552, 38) (138, 38)\n"
     ]
    }
   ],
   "source": [
    "'''\n",
    "- Tìm hiểu cấu trúc data tại trang web UCI\n",
    "- Down các files, đặt trong folder data/\n",
    "- Làm với phiên bản 'numeric'\n",
    "'''\n",
    "data_path = './data/australian.dat'\n",
    "credit=np.genfromtxt(data_path)\n",
    "credit = pd.DataFrame(data=credit)\n",
    "credit.columns=['X1','X2','X3','X4','X5','X6','X7','X8','X9','X10','X11','X12','X13','X14','Y']\n",
    "print(credit.head())\n",
    "\n",
    "X = credit.iloc[:, :-1].values\n",
    "y = credit.iloc[:, -1].values\n",
    "\n",
    "# Onehot encode categorical columns\n",
    "encode_rules = ColumnTransformer(\n",
    "    transformers=[('one_hot_encoder', OneHotEncoder(categories='auto'), [3,4,5,11])],\n",
    "    remainder='passthrough'\n",
    ")\n",
    "\n",
    "X = encode_rules.fit_transform(X)\n",
    "\n",
    "X_train, X_test, y_train, y_test = train_test_split(X,y,test_size=0.2, random_state=random_state)\n",
    "print(X_train.shape, X_test.shape)\n"
   ]
  },
  {
   "cell_type": "markdown",
   "metadata": {},
   "source": [
    "## 2. Decision Tree"
   ]
  },
  {
   "cell_type": "markdown",
   "metadata": {},
   "source": [
    "### 2.1. Khảo sát với các giá trị khác nhau của max_depth"
   ]
  },
  {
   "cell_type": "code",
   "execution_count": 21,
   "metadata": {},
   "outputs": [
    {
     "data": {
      "text/plain": "Text(0.5, 1.0, 'DT validation curve for max_depth')"
     },
     "execution_count": 21,
     "metadata": {},
     "output_type": "execute_result"
    },
    {
     "data": {
      "image/png": "[encoded data removed]",
      "text/plain": "<Figure size 432x288 with 1 Axes>"
     },
     "metadata": {
      "needs_background": "light"
     },
     "output_type": "display_data"
    }
   ],
   "source": [
    "cv_accuracies_by_depth, test_accuracies_by_depth= [], []\n",
    "max_depth_values= np.arange(2,11)\n",
    "\n",
    "for curr_max_depth in max_depth_values:\n",
    "  tree= DecisionTreeClassifier(random_state=random_state, max_depth=curr_max_depth)\n",
    "  \n",
    "  # cross-validation\n",
    "  val_scores= cross_val_score(estimator=tree, X=X_train, y=y_train, cv=5, scoring='accuracy')\n",
    "  cv_accuracies_by_depth.append(val_scores.mean())\n",
    "\n",
    "  # test\n",
    "  tree.fit(X_train, y_train)\n",
    "  curr_pred= tree.predict(X_test)\n",
    "  test_accuracies_by_depth.append(accuracy_score(curr_pred, y_test))\n",
    "\n",
    "# Plot \n",
    "plt.plot(max_depth_values, cv_accuracies_by_depth, label='cv')\n",
    "plt.plot(max_depth_values, test_accuracies_by_depth, label='test')\n",
    "plt.legend()\n",
    "plt.xlabel('max depth')\n",
    "plt.ylabel('scores')\n",
    "plt.title('DT validation curve for max_depth')"
   ]
  },
  {
   "cell_type": "markdown",
   "metadata": {},
   "source": [
    "### 2.2. Parameter tuning    "
   ]
  },
  {
   "cell_type": "code",
   "execution_count": 22,
   "metadata": {},
   "outputs": [
    {
     "name": "stdout",
     "output_type": "stream",
     "text": [
      "Fitting 5 folds for each of 6000 candidates, totalling 30000 fits\n",
      "{'class_weight': None, 'max_depth': 4, 'max_leaf_nodes': 5, 'min_samples_leaf': 1, 'min_samples_split': 2}\n",
      "0.8623188405797102\n"
     ]
    }
   ],
   "source": [
    "parameter={\n",
    "    'max_depth': [2, 3, 4, 5, 6, 7],\n",
    "    'min_samples_split' : np.arange(2,202,20),\n",
    "    'min_samples_leaf' : np.arange(1,201,20),\n",
    "    'max_leaf_nodes': (2, 5, 10, 20, 50),\n",
    "    'class_weight': ['balanced', None]\n",
    "}\n",
    "grid=GridSearchCV(DecisionTreeClassifier(), parameter, verbose=1, n_jobs=-1)\n",
    "gridfit=grid.fit(X_train,y_train)\n",
    "print(gridfit.best_params_)\n",
    "y_pred = gridfit.predict(X_test)\n",
    "print(accuracy_score(y_test, y_pred))"
   ]
  },
  {
   "cell_type": "markdown",
   "metadata": {},
   "source": [
    "## 3. Random Forest"
   ]
  },
  {
   "cell_type": "code",
   "execution_count": 23,
   "metadata": {},
   "outputs": [
    {
     "data": {
      "image/png": "[encoded data removed]",
      "text/plain": "<Figure size 432x288 with 1 Axes>"
     },
     "metadata": {
      "needs_background": "light"
     },
     "output_type": "display_data"
    }
   ],
   "source": [
    "num_trees = [5, 10, 15, 20, 30, 50, 75, 100, 150]\n",
    "train_acc = []\n",
    "test_acc = []\n",
    "for ntrees in num_trees:\n",
    "    rf = RandomForestClassifier(n_estimators=ntrees, random_state=random_state, n_jobs=-1).fit(X_train, y_train)\n",
    "    temp_train_acc=cross_val_score(rf, X_test, y_test, cv=5, scoring='accuracy')\n",
    "    train_acc.append(temp_train_acc.mean())\n",
    "    test_acc.append(accuracy_score(rf.predict(X_test), y_test))\n",
    "plt.plot(num_trees, train_acc, label='train')\n",
    "plt.plot(num_trees, test_acc, label='test')\n",
    "plt.legend()\n",
    "plt.xlabel('No. of trees (n_estimators)')\n",
    "plt.ylabel('Scores')\n",
    "plt.title('Random-Forest: scores vs n_estimators');"
   ]
  },
  {
   "cell_type": "code",
   "execution_count": 32,
   "metadata": {},
   "outputs": [
    {
     "name": "stdout",
     "output_type": "stream",
     "text": [
      "Fitting 5 folds for each of 864 candidates, totalling 4320 fits\n",
      "{'max_depth': 10, 'max_features': 1.0, 'min_samples_leaf': 1, 'n_estimators': 100}\n",
      "0.8840579710144928\n"
     ]
    }
   ],
   "source": [
    "parameter={\n",
    "    'max_depth': [2,3,5,7,10, 20],\n",
    "    'min_samples_leaf': [1,10,30,60],\n",
    "    'max_features': [1.0,'log2','sqrt','auto'],\n",
    "    'n_estimators': [1,2,3,5,10, 20, 50, 100,170]\n",
    "    }\n",
    "grid=GridSearchCV(RandomForestClassifier(random_state=random_state), parameter,n_jobs=-1, verbose=1)\n",
    "gridfit=grid.fit(X_train,y_train)\n",
    "print(gridfit.best_params_)\n",
    "y_pred = gridfit.predict(X_test)\n",
    "print(accuracy_score(y_test, y_pred))"
   ]
  }
 ],
 "metadata": {
  "kernelspec": {
   "display_name": "Python 3",
   "language": "python",
   "name": "python3"
  },
  "language_info": {
   "name": "python",
   "version": ""
  }
 },
 "nbformat": 4,
 "nbformat_minor": 2
}