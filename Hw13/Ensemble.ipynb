{
 "cells": [
  {
   "cell_type": "markdown",
   "id": "22071afa",
   "metadata": {},
   "source": [
    "# Ensemble\n",
    "\n",
    "Sử dụng kỹ thuật Model Ensemble để tăng cường độ chính xác khi suy diễn"
   ]
  },
  {
   "cell_type": "code",
   "execution_count": 6,
   "id": "a9606e60",
   "metadata": {},
   "outputs": [],
   "source": [
    "device = torch.device(\"mps\" if torch.backends.mps.is_available() else \"cpu\")\n",
    "\n",
    "import torch\n",
    "import torch.nn as nn\n",
    "import torch.optim as optim\n",
    "import numpy as np\n",
    "import glob\n",
    "import cv2\n",
    "import torch.nn.functional as F\n",
    "from torch.autograd import Variable\n",
    "import os\n",
    "\n",
    "import torchvision\n",
    "import torchvision.transforms as transforms\n",
    "\n",
    "from torch.nn import CrossEntropyLoss, Dropout, Softmax, Linear, Conv2d, LayerNorm\n",
    "import matplotlib.pyplot as plt\n",
    "from torchsummary import summary"
   ]
  },
  {
   "cell_type": "code",
   "execution_count": 9,
   "id": "cf3dc309",
   "metadata": {},
   "outputs": [
    {
     "name": "stdout",
     "output_type": "stream",
     "text": [
      "----------------------------------------------------------------\n",
      "        Layer (type)               Output Shape         Param #\n",
      "================================================================\n",
      "            Conv2d-1            [-1, 6, 28, 28]             456\n",
      "         MaxPool2d-2            [-1, 6, 14, 14]               0\n",
      "            Conv2d-3           [-1, 16, 10, 10]           2,416\n",
      "         MaxPool2d-4             [-1, 16, 5, 5]               0\n",
      "            Linear-5                  [-1, 120]          48,120\n",
      "            Linear-6                   [-1, 84]          10,164\n",
      "            Linear-7                   [-1, 10]             850\n",
      "================================================================\n",
      "Total params: 62,006\n",
      "Trainable params: 62,006\n",
      "Non-trainable params: 0\n",
      "----------------------------------------------------------------\n",
      "Input size (MB): 0.01\n",
      "Forward/backward pass size (MB): 0.06\n",
      "Params size (MB): 0.24\n",
      "Estimated Total Size (MB): 0.31\n",
      "----------------------------------------------------------------\n"
     ]
    }
   ],
   "source": [
    "def load_data(data_dir=\"./data\"):\n",
    "    transform = transforms.Compose([\n",
    "        transforms.ToTensor(),\n",
    "        transforms.Normalize((0.5, 0.5, 0.5), (0.5, 0.5, 0.5))\n",
    "    ])\n",
    "\n",
    "    trainset = torchvision.datasets.CIFAR10(\n",
    "        root=data_dir, train = True, download = True, transform = transform)\n",
    "\n",
    "    testset = torchvision.datasets.CIFAR10(\n",
    "        root=data_dir, train = False, download = True, transform = transform)\n",
    "\n",
    "    return trainset, testset\n",
    "\n",
    "\n",
    "class Net(nn.Module):\n",
    "    def __init__(self, l1 = 120, l2 = 84):\n",
    "        super(Net, self).__init__()\n",
    "        self.conv1 = nn.Conv2d(3, 6, 5)\n",
    "        self.pool = nn.MaxPool2d(2, 2)\n",
    "        self.conv2 = nn.Conv2d(6, 16, 5)\n",
    "        self.fc1 = nn.Linear(16 * 5 * 5, l1)\n",
    "        self.fc2 = nn.Linear(l1, l2)\n",
    "        self.fc3 = nn.Linear(l2, 10)\n",
    "\n",
    "    def forward(self, x):\n",
    "        x = self.pool(F.relu(self.conv1(x)))\n",
    "        x = self.pool(F.relu(self.conv2(x)))\n",
    "        x = x.view(-1, 16 * 5 * 5)\n",
    "        x = F.relu(self.fc1(x))\n",
    "        x = F.relu(self.fc2(x))\n",
    "        x = self.fc3(x)\n",
    "\n",
    "        return x\n",
    "\n",
    "model = Net()\n",
    "if torch.cuda.is_available():\n",
    "    model.cuda()\n",
    "summary(model, (3, 32, 32))"
   ]
  },
  {
   "cell_type": "code",
   "execution_count": 10,
   "id": "4a608ec5",
   "metadata": {},
   "outputs": [],
   "source": [
    "# Accuracy on test set\n",
    "\n",
    "def test_accuracy(net, device = \"cpu\"):\n",
    "    correct = 0\n",
    "    total = 0\n",
    "    with torch.no_grad():\n",
    "        for data in testloader:\n",
    "            images, labels = data\n",
    "            images, labels = images.to(device), labels.to(device)\n",
    "            outputs = net(images)\n",
    "            _, predicted = torch.max(outputs.data, 1)\n",
    "            total += labels.size(0)\n",
    "            correct += (predicted == labels).sum().item()\n",
    "\n",
    "    return correct / total"
   ]
  },
  {
   "cell_type": "code",
   "execution_count": 11,
   "id": "4c0785ad",
   "metadata": {},
   "outputs": [],
   "source": [
    "def train(net, criterion, optimizer, save_path, device = \"cpu\"):\n",
    "    T_cur = 0\n",
    "    for epoch in range(1, epochs + 1):  # loop over the dataset multiple times\n",
    "        running_loss = 0.0\n",
    "        epoch_steps = 0\n",
    "        T_cur += 1\n",
    "        \n",
    "        # warm-up\n",
    "        if epoch <= warm_epoch:\n",
    "            optimizer.param_groups[0]['lr'] = (1.0 * epoch) / warm_epoch  * init_lr\n",
    "        else: \n",
    "            # cosine annealing lr\n",
    "            optimizer.param_groups[0]['lr'] = last_lr + (init_lr - last_lr) * (1 + np.cos(T_cur * np.pi / T_max)) / 2\n",
    "\n",
    "        for i, data in enumerate(trainloader, 0):\n",
    "            # get the inputs; data is a list of [inputs, labels]\n",
    "            inputs, labels = data\n",
    "            inputs, labels = inputs.to(device), labels.to(device)\n",
    "\n",
    "            # zero the parameter gradients\n",
    "            optimizer.zero_grad()\n",
    "\n",
    "            # forward + backward + optimize\n",
    "            outputs = net(inputs)\n",
    "            loss = criterion(outputs, labels)\n",
    "            loss.backward()\n",
    "            optimizer.step()\n",
    "\n",
    "            # print statistics\n",
    "            running_loss += loss.item()\n",
    "            epoch_steps += 1\n",
    "            if i + 1 == len(trainloader):\n",
    "                print(\"[Epoch %d] loss: %.3f\" % (epoch, running_loss / epoch_steps))\n",
    "                running_loss = 0.0\n",
    "                \n",
    "    print(\"Finished Training\")\n",
    "    print(\"Test accuracy:\", test_accuracy(net, device))\n",
    "    torch.save(net.state_dict(), save_path)"
   ]
  },
  {
   "cell_type": "code",
   "execution_count": null,
   "id": "71bb00e2",
   "metadata": {},
   "outputs": [
    {
     "name": "stdout",
     "output_type": "stream",
     "text": [
      "Downloading https://www.cs.toronto.edu/~kriz/cifar-10-python.tar.gz to ./data/cifar-10-python.tar.gz\n"
     ]
    },
    {
     "name": "stderr",
     "output_type": "stream",
     "text": [
      "100%|██████████| 170498071/170498071 [39:35<00:00, 71784.99it/s] \n"
     ]
    },
    {
     "name": "stdout",
     "output_type": "stream",
     "text": [
      "Extracting ./data/cifar-10-python.tar.gz to ./data\n",
      "Files already downloaded and verified\n"
     ]
    }
   ],
   "source": [
    "epochs = 10\n",
    "warm_epoch = 5\n",
    "init_lr = 1e-2\n",
    "last_lr = 1e-4\n",
    "T_max = epochs\n",
    "\n",
    "configs = [{'l1': 64, 'l2': 32}, {'l1': 128, 'l2': 64}]\n",
    "\n",
    "trainset, testset = load_data('./data')\n",
    "trainloader = torch.utils.data.DataLoader(\n",
    "    trainset,\n",
    "    batch_siz = 128,\n",
    "    shuffle = True,\n",
    ")\n",
    "testloader = torch.utils.data.DataLoader(\n",
    "    testset, batch_size = 4, shuffle = False, num_workers = 2)"
   ]
  },
  {
   "cell_type": "code",
   "execution_count": 13,
   "id": "8df5c90d",
   "metadata": {},
   "outputs": [
    {
     "name": "stdout",
     "output_type": "stream",
     "text": [
      "{'l1': 64, 'l2': 32}\n",
      "[Epoch 1] loss: 2.302\n",
      "[Epoch 2] loss: 2.111\n",
      "[Epoch 3] loss: 1.718\n",
      "[Epoch 4] loss: 1.517\n",
      "[Epoch 5] loss: 1.380\n",
      "[Epoch 6] loss: 1.224\n",
      "[Epoch 7] loss: 1.170\n",
      "[Epoch 8] loss: 1.135\n",
      "[Epoch 9] loss: 1.114\n",
      "[Epoch 10] loss: 1.107\n",
      "Finished Training\n",
      "Test accuracy: 0.5889\n",
      "{'l1': 128, 'l2': 64}\n",
      "[Epoch 1] loss: 2.301\n",
      "[Epoch 2] loss: 2.133\n",
      "[Epoch 3] loss: 1.724\n",
      "[Epoch 4] loss: 1.483\n",
      "[Epoch 5] loss: 1.358\n",
      "[Epoch 6] loss: 1.214\n",
      "[Epoch 7] loss: 1.156\n",
      "[Epoch 8] loss: 1.117\n",
      "[Epoch 9] loss: 1.094\n",
      "[Epoch 10] loss: 1.086\n",
      "Finished Training\n",
      "Test accuracy: 0.592\n"
     ]
    }
   ],
   "source": [
    "# huấn luyện hai model trong config\n",
    "\n",
    "os.makedirs('./snapshot', exist_ok = True)\n",
    "\n",
    "for i, cfg in enumerate(configs):\n",
    "    print(cfg)\n",
    "    net = Net(cfg['l1'], cfg['l2'])\n",
    "    device = \"cpu\"\n",
    "    if torch.cuda.is_available():\n",
    "        device = \"cuda:0\"\n",
    "        if torch.cuda.device_count() > 1:\n",
    "            net = nn.DataParallel(net)\n",
    "    net.to(device)\n",
    "\n",
    "    criterion = nn.CrossEntropyLoss()\n",
    "    optimizer = optim.SGD(net.parameters(), lr = init_lr, momentum = 0.9)\n",
    "\n",
    "    save_path = f'./snapshot/model{i}.pth'\n",
    "    train(net, criterion, optimizer, save_path, device)"
   ]
  },
  {
   "cell_type": "code",
   "execution_count": null,
   "id": "de4fcfeb",
   "metadata": {},
   "outputs": [],
   "source": [
    "# kết hợp hai models\n",
    "\n",
    "from tqdm import tqdm\n",
    "\n",
    "def test_ensemble(device = \"cuda:0\"):\n",
    "    correct = 0\n",
    "    total = 0\n",
    "    with torch.no_grad():\n",
    "        for data in tqdm(testloader):\n",
    "            images, labels = data\n",
    "            images, labels = images.to(device), labels.to(device)\n",
    "            final_outputs = torch.zeros((4, 10)).to(device)\n",
    "            for i, cfg in enumerate(configs):\n",
    "                net = Net(cfg['l1'], cfg['l2'])\n",
    "                net.to(device) \n",
    "                net.load_state_dict(torch.load(f'./snapshot/model{i}.pth'))               \n",
    "                outputs = net(images)\n",
    "                final_outputs = final_outputs.add(outputs)\n",
    "\n",
    "            final_outputs.div(len(configs))\n",
    "            _, predicted = torch.max(final_outputs.data, 1)\n",
    "            total += labels.size(0)\n",
    "            correct += (predicted == labels).sum().item()\n",
    "\n",
    "    return correct / total"
   ]
  },
  {
   "cell_type": "code",
   "execution_count": 17,
   "id": "2da93779",
   "metadata": {},
   "outputs": [
    {
     "name": "stderr",
     "output_type": "stream",
     "text": [
      "100%|██████████| 2500/2500 [00:20<00:00, 119.55it/s]\n"
     ]
    },
    {
     "data": {
      "text/plain": [
       "0.6137"
      ]
     },
     "execution_count": 17,
     "metadata": {},
     "output_type": "execute_result"
    }
   ],
   "source": [
    "test_ensemble(device = device)"
   ]
  },
  {
   "cell_type": "code",
   "execution_count": null,
   "id": "7d109706",
   "metadata": {},
   "outputs": [],
   "source": []
  }
 ],
 "metadata": {
  "kernelspec": {
   "display_name": "Python 3",
   "language": "python",
   "name": "python3"
  },
  "language_info": {
   "codemirror_mode": {
    "name": "ipython",
    "version": 3
   },
   "file_extension": ".py",
   "mimetype": "text/x-python",
   "name": "python",
   "nbconvert_exporter": "python",
   "pygments_lexer": "ipython3",
   "version": "3.11.9"
  }
 },
 "nbformat": 4,
 "nbformat_minor": 5
}
